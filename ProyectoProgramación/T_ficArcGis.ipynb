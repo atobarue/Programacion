{
 "cells": [
  {
   "cell_type": "markdown",
   "metadata": {},
   "source": [
    "### Trabajo\n",
    "\n",
    "### Creación de Ficheros para ArcGisPro"
   ]
  },
  {
   "cell_type": "code",
   "execution_count": 10,
   "metadata": {},
   "outputs": [
    {
     "name": "stdout",
     "output_type": "stream",
     "text": [
      "Ficheros creados\n"
     ]
    }
   ],
   "source": [
    "### IMPORT LIBRERIAS\n",
    "import pandas as pd\n",
    "import matplotlib.pyplot as plt\n",
    "from datetime import datetime\n",
    "from datetime import timedelta\n",
    "import numpy as np\n",
    "####                                              FUNCIONES\n",
    "### CARGA DICCIONARIO DE CC AA del fichero \n",
    "def carga_ccaa (nfic, dic):\n",
    "    dic={}\n",
    "    lis=[]\n",
    "    fichero = open(nfic, \"r\",encoding=\"utf-8-sig\")\n",
    "    linea = fichero.readline().strip() # Leo registro cabecera\n",
    "    if linea:\n",
    "        linea = fichero.readline().strip()   ### Leo primera linea de datos\n",
    "    while linea:                             ### cada registro (ccaa) un elemento del diccionario\n",
    "        reg=linea.split(\";\")\n",
    "        dic[reg[0]] = reg[2]\n",
    "        linea = fichero.readline().strip()\n",
    "    fichero.close()\n",
    "    return dic\n",
    "\n",
    "### CARGA DICCIONARIO DE CC AA del fichero codigos numericos para ArcGis\n",
    "def carga_ccaa2 (nfic, dic):\n",
    "    dic={}\n",
    "    lis=[]\n",
    "    fichero = open(nfic, \"r\",encoding=\"utf-8-sig\")\n",
    "    linea = fichero.readline().strip() # Leo registro cabecera\n",
    "    if linea:\n",
    "        linea = fichero.readline().strip()   ### Leo primera linea de datos\n",
    "    while linea:                             ### cada registro (ccaa) un elemento del diccionario\n",
    "        reg=linea.split(\";\")\n",
    "        dic[reg[0]] = reg[4]\n",
    "        linea = fichero.readline().strip()\n",
    "    fichero.close()\n",
    "    return dic\n",
    "### Carga último fichero Datos_Casos_COVID19.csv  DataFrame casos\n",
    "def carga_casos():      ### Carga fichero de casos por CCAA y día en DataFrame casos\n",
    "    import pandas as pd\n",
    "    pd.options.display.max_rows = 10\n",
    "    casos = pd.read_csv('https://www.mscbs.gob.es/profesionales/saludPublica/ccayes/alertasActual/nCov/documentos/Datos_Casos_COVID19.csv',\n",
    "                   encoding='latin-1',\n",
    "                   skiprows=6,\n",
    "#                   nrows=20,\n",
    "                   sep=';')\n",
    "    casos['Fecha']= pd.to_datetime(casos['Fecha'], format=\"%d-%m-%Y\") ### Covierte string fecha en datetime\n",
    "    casos=casos.set_index('Fecha')                                    ### pongo la fecha como indice\n",
    "    return casos\n",
    "\n",
    "###               PROGRAMA PRINCIPAL d_ccaa\n",
    "###            CARGA DICCIONARIO DE CCAA en diccionario d_ccaa\n",
    "nfic=\"ccaa.csv\"   #### fichero de claves de CCAA fichero \"ccaa.csv\"\n",
    "dic_ccaa={}\n",
    "d_ccaa=carga_ccaa (nfic, dic_ccaa)\n",
    "#print(d_ccaa)\n",
    "###            CARGA DICCIONARIO DE CODIGOS NUMERICOS DE CCAA  que tengo en la capa de CCAA de ArcGis en diccionario d_ccaa2\n",
    "dic_ccaa2={}\n",
    "d_ccaa2=carga_ccaa2 (nfic, dic_ccaa)\n",
    "#print(d_ccaa2)\n",
    "\n",
    "###  CARGA FICHERO DE CASOS COVID EN DATAFRAME df\n",
    "df=carga_casos()\n",
    "#print(carga_casos())\n",
    "\n",
    "#print(df)\n",
    "### Cambia codigo CCAA por el codigo numerico de comunidad disponible en el fichero de poligonos de aArcGis\n",
    "### para ello crea diccionario de CCAA_ISO, codigo numerico \n",
    "dic={}\n",
    "for i in d_ccaa2:\n",
    "    dic['ES-'+i] = d_ccaa2[i] \n",
    "df=df.replace(dic)\n",
    "\n",
    "# Crea fichero de casos: casos_COVID19_ArcGis.csv\n",
    "df.to_csv('casos_COVID19_ArcGis.csv')\n",
    "#print(df)\n",
    "\n",
    "# Crea fichero de total de casos por CCAA: casos_COVID19_ArcGis.csv\n",
    "df2=df.groupby(['CCAA_ISO']).sum() #### Deja una unica fila por CCAA y Fecha\n",
    "#print(df2)\n",
    "df2.to_csv('totales_COVID19_ArcGis.csv')\n",
    "\n",
    "print('Ficheros creados')"
   ]
  }
 ],
 "metadata": {
  "kernelspec": {
   "display_name": "Python 3",
   "language": "python",
   "name": "python3"
  },
  "language_info": {
   "codemirror_mode": {
    "name": "ipython",
    "version": 3
   },
   "file_extension": ".py",
   "mimetype": "text/x-python",
   "name": "python",
   "nbconvert_exporter": "python",
   "pygments_lexer": "ipython3",
   "version": "3.8.3"
  }
 },
 "nbformat": 4,
 "nbformat_minor": 4
}
