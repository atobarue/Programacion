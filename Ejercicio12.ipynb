{
 "cells": [
  {
   "cell_type": "markdown",
   "metadata": {},
   "source": [
    "**12. Acabas de comenzar a trabajar en el INE, y tu primera labor es recopilar la información que te proporcionan distintas autoridades locales para presentársela a tu jefe. La Agrupación de Municipios de España te ha proporcionado una lista de códigos postales y las poblaciones a las que pertenecen, aunque no te aseguran que esté actualizada y pueden faltar códigos postales. La Policía Nacional te ha proporcionado una lista de la cantidad de robos que se han producido en distintas poblaciones, asociados también a códigos postales. Si no se han producido robos, el código postal no aparece. La Guardia Civil te ha proporcionado una lista con la cantidad de incautaciones de drogas junto con el nombre de la población en el que se han producido. La Federación de Policías Municipales de España te ha enviado una lista con el número de infracciones que se han sancionado agrupadas también por poblaciones, y la Coordinadora de Cuerpos de Bomberos Nacional ha proporcionado el número de incendios sofocados, agrupados por código postal. Sabiendo que no todas las poblaciones y códigos postales tienen por qué aparecer en cada uno de los ficheros, escribe un programa que lea toda esta información, la agrupe de la manera más conveniente y la presente de manera ordenada.**  \n",
    "Antes de comenzar a resolver el ejercicio, puedes hacerte pequeños programas que te generen la información que necesitas para probar el ejercicio."
   ]
  },
  {
   "cell_type": "code",
   "execution_count": null,
   "metadata": {},
   "outputs": [],
   "source": [
    "### elementos CODPOS;POBLACION;NUMERO incidentes\n",
    "lista_cp=[]\n",
    "lista_PNA=[]\n",
    "lista_GCI=[]\n",
    "lista_PMU=[]\n",
    "lista_BOM=[]\n"
   ]
  }
 ],
 "metadata": {
  "kernelspec": {
   "display_name": "Python 3",
   "language": "python",
   "name": "python3"
  },
  "language_info": {
   "codemirror_mode": {
    "name": "ipython",
    "version": 3
   },
   "file_extension": ".py",
   "mimetype": "text/x-python",
   "name": "python",
   "nbconvert_exporter": "python",
   "pygments_lexer": "ipython3",
   "version": "3.8.3"
  }
 },
 "nbformat": 4,
 "nbformat_minor": 4
}
