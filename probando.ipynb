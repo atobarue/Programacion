{
 "cells": [
  {
   "cell_type": "code",
   "execution_count": 1,
   "metadata": {},
   "outputs": [
    {
     "name": "stdout",
     "output_type": "stream",
     "text": [
      "Hola terrícolas\n"
     ]
    }
   ],
   "source": [
    "print (\"Hola terrícolas\")"
   ]
  },
  {
   "cell_type": "code",
   "execution_count": 4,
   "metadata": {},
   "outputs": [
    {
     "name": "stdout",
     "output_type": "stream",
     "text": [
      "Be careful not to fall off!\n"
     ]
    }
   ],
   "source": [
    "the_world_is_flat = True\n",
    "if the_world_is_flat: print(\"Be careful not to fall off!\")"
   ]
  },
  {
   "cell_type": "code",
   "execution_count": 5,
   "metadata": {},
   "outputs": [],
   "source": [
    "# This is a comment"
   ]
  },
  {
   "cell_type": "code",
   "execution_count": 6,
   "metadata": {},
   "outputs": [
    {
     "name": "stdout",
     "output_type": "stream",
     "text": [
      "# This is not a comment because it's inside quotes.\n"
     ]
    }
   ],
   "source": [
    "text = \"# This is not a comment because it's inside quotes.\"\n",
    "print(text)"
   ]
  },
  {
   "cell_type": "code",
   "execution_count": 1,
   "metadata": {},
   "outputs": [],
   "source": [
    "import math"
   ]
  },
  {
   "cell_type": "code",
   "execution_count": 3,
   "metadata": {},
   "outputs": [
    {
     "name": "stdout",
     "output_type": "stream",
     "text": [
      "15.0\n"
     ]
    }
   ],
   "source": [
    "print(3*math.sqrt(25))"
   ]
  },
  {
   "cell_type": "code",
   "execution_count": null,
   "metadata": {},
   "outputs": [],
   "source": [
    "# El área de un rectángulo de 10.2 por 14.3, redondeando a un decimal"
   ]
  },
  {
   "cell_type": "code",
   "execution_count": 8,
   "metadata": {},
   "outputs": [],
   "source": [
    "area = round(10.2*14.3,1)"
   ]
  },
  {
   "cell_type": "code",
   "execution_count": 9,
   "metadata": {},
   "outputs": [
    {
     "name": "stdout",
     "output_type": "stream",
     "text": [
      "145.9\n"
     ]
    }
   ],
   "source": [
    "print(area)"
   ]
  },
  {
   "cell_type": "code",
   "execution_count": 10,
   "metadata": {},
   "outputs": [],
   "source": [
    "# El área de un cilindro de radio 5 y altura 22, redondeado con dos decimales"
   ]
  },
  {
   "cell_type": "code",
   "execution_count": 13,
   "metadata": {},
   "outputs": [
    {
     "name": "stdout",
     "output_type": "stream",
     "text": [
      "691.2\n"
     ]
    }
   ],
   "source": [
    "print(round(2*math.pi*5*22,1))"
   ]
  },
  {
   "cell_type": "markdown",
   "metadata": {},
   "source": [
    "# El factorial de 7"
   ]
  },
  {
   "cell_type": "code",
   "execution_count": 1,
   "metadata": {},
   "outputs": [
    {
     "name": "stdout",
     "output_type": "stream",
     "text": [
      "2\n",
      "6\n",
      "24\n",
      "120\n",
      "720\n",
      "5040\n"
     ]
    }
   ],
   "source": [
    "f=1\n",
    "i=2\n",
    "for i in range(2,8): \n",
    "    f=f*i \n",
    "    print(f)\n",
    "    \n",
    "    "
   ]
  },
  {
   "cell_type": "code",
   "execution_count": 2,
   "metadata": {},
   "outputs": [
    {
     "name": "stdout",
     "output_type": "stream",
     "text": [
      "2\n",
      "6\n",
      "24\n",
      "120\n",
      "720\n",
      "5040\n"
     ]
    }
   ],
   "source": [
    "f=1\n",
    "i=2\n",
    "while i <= 7:\n",
    "    f=f*i\n",
    "    print(f)\n",
    "    i=i+1\n",
    "    \n"
   ]
  },
  {
   "cell_type": "code",
   "execution_count": 3,
   "metadata": {},
   "outputs": [],
   "source": [
    "# El logaritmo en base 2 de 32"
   ]
  },
  {
   "cell_type": "code",
   "execution_count": 7,
   "metadata": {},
   "outputs": [],
   "source": [
    "import math"
   ]
  },
  {
   "cell_type": "code",
   "execution_count": 8,
   "metadata": {},
   "outputs": [
    {
     "data": {
      "text/plain": [
       "5.0"
      ]
     },
     "execution_count": 8,
     "metadata": {},
     "output_type": "execute_result"
    }
   ],
   "source": [
    "math.log(32, 2)"
   ]
  },
  {
   "cell_type": "code",
   "execution_count": 9,
   "metadata": {},
   "outputs": [
    {
     "data": {
      "text/plain": [
       "5.0"
      ]
     },
     "execution_count": 9,
     "metadata": {},
     "output_type": "execute_result"
    }
   ],
   "source": [
    "math.log2(32)"
   ]
  },
  {
   "cell_type": "code",
   "execution_count": 11,
   "metadata": {},
   "outputs": [
    {
     "data": {
      "text/plain": [
       "-1.0"
      ]
     },
     "execution_count": 11,
     "metadata": {},
     "output_type": "execute_result"
    }
   ],
   "source": [
    "math.sin(math.radians(270))"
   ]
  },
  {
   "cell_type": "code",
   "execution_count": 8,
   "metadata": {},
   "outputs": [
    {
     "data": {
      "text/plain": [
       "['.git',\n",
       " '.gitignore',\n",
       " '.ipynb_checkpoints',\n",
       " '.~matriculas.csv',\n",
       " 'c20201118.ipynb',\n",
       " 'codciu.txt',\n",
       " 'EjerciciosPythonBasics.ipynb',\n",
       " 'Hola.ipynb',\n",
       " 'Hola.py',\n",
       " 'matriculas.csv',\n",
       " 'numeros.text',\n",
       " 'probando.ipynb',\n",
       " 'prog_stats.ipynb',\n",
       " 'Untitled.ipynb',\n",
       " 'Untitled1.ipynb']"
      ]
     },
     "execution_count": 8,
     "metadata": {},
     "output_type": "execute_result"
    }
   ],
   "source": [
    "import os\n",
    "os.getcwd()\n",
    "os.listdir(path='.')"
   ]
  },
  {
   "cell_type": "code",
   "execution_count": 26,
   "metadata": {},
   "outputs": [
    {
     "name": "stdout",
     "output_type": "stream",
     "text": [
      "010Vitoria-Gasteiz\n",
      " 01xAraba-Álava\n",
      " 020Albacete\n",
      " 02xAlbacete\n",
      " 030Alacant-Alicante\n",
      " 031Alcoi-Alcoy\n",
      " 032Elx-Elche\n",
      " 035Benidorm\n",
      " 036Torrevieja\n",
      " 03xAlicante\n",
      " 040Almería\n",
      " 04xAlmería\n",
      " 050Ávila\n",
      " 05xÁvila\n",
      " 060Badajoz\n",
      " 06xBadajoz\n",
      " 070Palma de Mallorca\n",
      " 072Maó\n",
      " 07xIlles Balears\n",
      " 080Barcelona\n",
      " 081Badalona\n",
      " 082Hospitalet de Llobregat,l'\n",
      " 083Mataró\n",
      " 084Sabadell\n",
      " 085Santa Coloma de Gramanet\n",
      " 086Terrassa\n",
      " 087Manresa \n",
      " 088Sant Cugat del Vallés\n",
      " 089Granollers\n",
      " 08xBarcelona\n",
      " 090Burgos\n",
      " 09xBurgos\n",
      " 100Cáceres\n",
      " 10xCáceres\n",
      " 110Cádiz\n",
      " 111Algeciras\n",
      " 113Jerez de la Frontera\n",
      " 11xCádiz\n",
      " 120Castelló-Castellón de la Plana\n",
      " 12xCastellón\n",
      " 130Ciudad Real\n",
      " 13xCiudad Real\n",
      " 140Córdoba\n",
      " 14xCórdoba\n",
      " 150A Coruña\n",
      " 151Ferrol\n",
      " 152Santiago de Compostela\n",
      " 15xCoruña\n",
      " 160Cuenca\n",
      " 16xCuenca\n",
      " 170Girona\n",
      " 17xGirona\n",
      " 180Granada\n",
      " 18xGranada\n",
      " 190Guadalajara\n",
      " 19xGuadalajara\n",
      " 200Donostia - San Sebastian\n",
      " 201Irún\n",
      " 20xGipuzkoa\n",
      " 210Huelva\n",
      " 21xHuelva\n",
      " 220Huesca\n",
      " 22xHuesca\n",
      " 230Jaén\n",
      " 23xJaén\n",
      " 240León\n",
      " 241Ponferrada\n",
      " 24xLeón\n",
      " 250Lleida\n",
      " 25xLleida\n",
      " 260Logroño\n",
      " 26xLa Rioja\n",
      " 270Lugo\n",
      " 27xLugo\n",
      " 280Madrid\n",
      " 281Alcalá de Henares\n",
      " 282Alcorcón\n",
      " 283Getafe\n",
      " 284Leganés\n",
      " 285Móstoles\n",
      " 286Pozuelo de Alarcón\n",
      " 287Fuenlabrada\n",
      " 288Alcobendas y La Moraleja\n",
      " 289Las Rozas de Madrid       \n",
      " 28aCoslada                   \n",
      " 28bSan Sebastián de los Reyes\n",
      " 28cMajadahonda               \n",
      " 28dRivas-Vaciamadrid         \n",
      " 28eParla                     \n",
      " 28fValdemoro                 \n",
      " 28xMadrid\n",
      " 290Málaga\n",
      " 291Marbella\n",
      " 292Mijas\n",
      " 29xMálaga\n",
      " 300Murcia\n",
      " 301Cartagena\n",
      " 30xMurcia\n",
      " 310Pamplona-Iruña\n",
      " 31xNavarra\n",
      " 320Ourense\n",
      " 32xOurense\n",
      " 330Oviedo\n",
      " 331Gijón\n",
      " 332Avilés\n",
      " 33xAsturias\n",
      " 340Palencia\n",
      " 34xPalencia\n",
      " 350Palmas de Gran Canaria,Las\n",
      " 351Telde\n",
      " 35xLas Palmas\n",
      " 360Pontevedra\n",
      " 361Vigo\n",
      " 36xPontevedra\n",
      " 370Salamanca\n",
      " 37xSalamanca\n",
      " 380Santa Cruz de Tenerife\n",
      " 381San Cristobal de la Laguna\n",
      " 38xSanta Cruz de Tenerife\n",
      " 390Santander\n",
      " 39xCantabria\n",
      " 400Segovia\n",
      " 40xSegovia\n",
      " 410Sevilla\n",
      " 411Dos Hermanas\n",
      " 41xSevilla\n",
      " 420Soria\n",
      " 42xSoria\n",
      " 430Tarragona\n",
      " 431Reus\n",
      " 43xTarragona\n",
      " 440Teruel\n",
      " 44xTeruel\n",
      " 450Toledo\n",
      " 45xToledo\n",
      " 460Valencia\n",
      " 461Gandía\n",
      " 46xValencia\n",
      " 470Valladolid\n",
      " 47xValladolid\n",
      " 480Bilbao\n",
      " 481Barakaldo\n",
      " 484Getxo (inc. Las Arenas y Algorta)\n",
      " 48xBizkaia\n",
      " 490Zamora\n",
      " 49xZamora\n",
      " 500Zaragoza\n",
      " 50xZaragoza\n",
      " 510Ceuta\n",
      " 51xCeuta\n",
      " 520Melilla\n",
      " 52xMelilla\n",
      " ADxAndorra\n",
      " "
     ]
    }
   ],
   "source": [
    "### Lectua de fichero linea a linea\n",
    "### 1. Abrir fichero\n",
    "fichero = open(\"codciu.txt\",\"r\",encoding=\"utf-8\")\n",
    "### 2. Leer fichero línea a línea\n",
    "linea = fichero.readline()  #### .strip() para quitar el fin de linea\n",
    "while linea:\n",
    "    print(linea, end=\" \")\n",
    "    linea = fichero.readline()\n",
    "### 3. Cerrar fichero\n",
    "fichero.close()"
   ]
  }
 ],
 "metadata": {
  "kernelspec": {
   "display_name": "Python 3",
   "language": "python",
   "name": "python3"
  },
  "language_info": {
   "codemirror_mode": {
    "name": "ipython",
    "version": 3
   },
   "file_extension": ".py",
   "mimetype": "text/x-python",
   "name": "python",
   "nbconvert_exporter": "python",
   "pygments_lexer": "ipython3",
   "version": "3.8.3"
  }
 },
 "nbformat": 4,
 "nbformat_minor": 4
}
