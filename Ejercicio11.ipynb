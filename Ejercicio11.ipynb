{
 "cells": [
  {
   "cell_type": "markdown",
   "metadata": {},
   "source": [
    "**11. Puedes obtener una lista de códigos postales de (https://www.codigospostales.com/descarga.html). En el fichero .zip que te puedes descargar de ahí puedes obtener los códigos postales de todas las poblaciones de España, pero están estructurados de una forma un poco particular, aunque sencilla de procesar automáticamente. El objetivo último del ejercicio es obtener un fichero con un listado de todos los códigos postales de España asociados a su provincia y población, ordenados por código postal. Cada línea deberá tener el formato**  \n",
    "    *CódigoPostal Provincia Poblaciones*  \n",
    "Indicaciones para resolver el ejercicio:\n",
    "* Abre el fichero codciu.txt. En cada línea de ese fichero puedes encontrar un código compuesto por tres números o dos números y una letra, seguidos del nombre de una población o provincia.\n",
    "* Para cada línea, debes separar los tres primeros caracteres de los demás, y después\n",
    "  + Si de esos tres primeros caracteres hay dos números y una x (NNx), quiere decir que el fichero asociado contiene información de poblaciones pequeñas de la provincia. Procesa los ficheros de nombre NNxcodpos.txt y extrae los códigos postales y las poblaciones asociadas a cada código postal (puede haber varias)\n",
    "  + Si de esos tres primeros caracteres hay tres números (NNN) o dos números y una letra que no sea x (p.e. NNa), quiere decir que el fichero asociado contiene los códigos postales de poblaciones grandes, con más de un código postal. En este caso, la información aparece desglosada por todas las calles que tienen cada uno de los códigos postales, con lo que cada \n",
    "código postal aparece multitud de veces. Descartando la información de las calles, recopila todos los códigos postales distintos que haya en esos ficheros y asócialos a la ciudad y provincia corresondientes"
   ]
  },
  {
   "cell_type": "code",
   "execution_count": 6,
   "metadata": {},
   "outputs": [],
   "source": [
    "import os\n",
    "ficheros=os.listdir(path=\"cdpostales1218\")\n",
    "ruta=os.getcwd()\n",
    "ruta=ruta.replace('\\\\', '\\\\\\\\')+'\\\\\\\\'+'cdpostales1218\\\\\\\\'  ### preparo ruta \n",
    "### print(ruta)\n",
    "                 \n",
    "### Hago dos diccionarios:\n",
    "d_prov={}   ### diccionario de provincias\n",
    "d_codciu={} ### diccionario de poblacioness\n",
    "\n",
    "f_prov = open(\"codciu.txt\", \"r\",encoding=\"utf-8\")   ### Abro fichero codciu.txt\n",
    "reg = f_prov.readline().strip()\n",
    "while reg:\n",
    "    d_codciu[reg[0:3]]=reg[3:]\n",
    "    if reg[2]==\"x\":\n",
    "        d_prov[reg[0:2]]=reg[3:]\n",
    "    reg = f_prov.readline().strip()\n",
    "f_prov.close() \n",
    "\n",
    "### print (len(ficheros))\n",
    "\n",
    "lista_cp=[] #### Lista de listas:  códigos postales;provincia;población\n",
    "for ff in ficheros:\n",
    "    nombre=ruta+ff #### compongo el nombre del fichero\n",
    "    ### print(nombre)\n",
    "    if (ff[3:]==\"codpos.txt\"):  ### solo trato ficheros de codigos postales\n",
    "        fcd= open (nombre, \"r\",encoding=\"utf-8\")\n",
    "        prov=d_prov[ff[0:2]]\n",
    "        ciu=d_codciu[ff[0:3]]\n",
    "        reg = fcd.readline().strip()\n",
    "        while reg:   ### para cada tipo de fichero tratamiento diferente\n",
    "            elemento=[]\n",
    "            if ff[2]== 'x':   ### si es de poblaciones pequeñas cargo en la lista todos los codigos postales que no son NN000\n",
    "                if not (reg[2:5]== \"000\"):\n",
    "                    elemento=(reg[0:5], prov, reg[6:])  \n",
    "                    lista_cp.append(elemento)\n",
    "            else:            ### si es de ciudades importantes (calles) solo cargo el primero de los CP\n",
    "                if (reg[0:5],prov,ciu) not in lista_cp:\n",
    "                    elemento=(reg[0:5], prov, ciu)\n",
    "                    lista_cp.append(elemento)\n",
    "            reg = fcd.readline().strip()\n",
    "        fcd.close()\n",
    "\n",
    "###       Ordeno la lista de codigos postales y ordenada, la grabo en fichero, para no imprimir miles de lineas\n",
    "#print(len(lista_cp))\n",
    "from operator import itemgetter\n",
    "lista_cp_ord=sorted(lista_cp, key=itemgetter(0)) ### ordeno por código postal\n",
    "fcdsort= open (\"fcdsort.txt\", \"w\")\n",
    "fcdsort.write(\"CDPOS\" + \";\"+ \"PROVINCIA\"+ \";\" + \"POBLACION\"+\"\\n\")   # primer registro de cabeceras\n",
    "for elemento in lista_cp_ord:\n",
    "    cdpos=str(elemento[0])\n",
    "    prov=str(elemento[1])\n",
    "    poblacion=str(elemento[2])\n",
    "    registro=cdpos + \";\" + prov + \";\" + poblacion\n",
    "    fcdsort.write(registro + \"\\n\")\n",
    "#    print(elemento)\n",
    "fcdsort.close()\n"
   ]
  }
 ],
 "metadata": {
  "kernelspec": {
   "display_name": "Python 3",
   "language": "python",
   "name": "python3"
  },
  "language_info": {
   "codemirror_mode": {
    "name": "ipython",
    "version": 3
   },
   "file_extension": ".py",
   "mimetype": "text/x-python",
   "name": "python",
   "nbconvert_exporter": "python",
   "pygments_lexer": "ipython3",
   "version": "3.8.3"
  }
 },
 "nbformat": 4,
 "nbformat_minor": 4
}
