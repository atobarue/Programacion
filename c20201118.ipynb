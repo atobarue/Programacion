{
 "cells": [
  {
   "cell_type": "markdown",
   "metadata": {},
   "source": [
    "### 18 de noviembre \n",
    "### estructuras de control"
   ]
  },
  {
   "cell_type": "code",
   "execution_count": 33,
   "metadata": {},
   "outputs": [
    {
     "name": "stdin",
     "output_type": "stream",
     "text": [
      "Escribe tu nombre:  Juan\n"
     ]
    },
    {
     "name": "stdout",
     "output_type": "stream",
     "text": [
      "no me caes bien\n",
      "Hasta luego Juan\n"
     ]
    }
   ],
   "source": [
    "nombre = input(\"Escribe tu nombre: \")\n",
    "if nombre == \"Luis\":\n",
    "    print (\"Hola \", nombre)\n",
    "    print (\"¿qué tal estás?\")\n",
    "elif nombre==\"Juan\":\n",
    "    print(\"no me caes bien\")\n",
    "print (\"Hasta luego\", nombre)"
   ]
  },
  {
   "cell_type": "code",
   "execution_count": 32,
   "metadata": {},
   "outputs": [
    {
     "name": "stdin",
     "output_type": "stream",
     "text": [
      "Dime un numero:  e\n"
     ]
    },
    {
     "name": "stdout",
     "output_type": "stream",
     "text": [
      "eso no es un numero\n"
     ]
    }
   ],
   "source": [
    "num=input(\"Dime un numero: \")\n",
    "if num.isdigit():\n",
    "    num=eval(num)\n",
    "    if num%2==0:\n",
    "        print(\"Es par\")\n",
    "    else:\n",
    "        print(\"es impar\")\n",
    "else:\n",
    "   print (\"eso no es un numero\")\n",
    "    "
   ]
  },
  {
   "cell_type": "code",
   "execution_count": 34,
   "metadata": {},
   "outputs": [
    {
     "name": "stdout",
     "output_type": "stream",
     "text": [
      "1\n",
      "2\n",
      "3\n",
      "4\n",
      "5\n",
      "6\n",
      "7\n",
      "8\n",
      "9\n",
      "10\n"
     ]
    }
   ],
   "source": [
    "a=0\n",
    "while a < 10:\n",
    "    a=a+1\n",
    "    print(a)"
   ]
  },
  {
   "cell_type": "code",
   "execution_count": 36,
   "metadata": {},
   "outputs": [
    {
     "name": "stdin",
     "output_type": "stream",
     "text": [
      "Dividendo  47\n",
      "Divisor  4\n"
     ]
    },
    {
     "name": "stdout",
     "output_type": "stream",
     "text": [
      "ccociente:  11\n",
      "Resto  3\n"
     ]
    }
   ],
   "source": [
    "dividendo=eval(input(\"Dividendo \"))\n",
    "divisor=eval(input(\"Divisor \"))\n",
    "cociente=0\n",
    "while dividendo >= divisor:\n",
    "    cociente=cociente + 1\n",
    "    dividendo = dividendo - divisor\n",
    "    \n",
    "print(\"ccociente: \",cociente)\n",
    "print(\"Resto \",dividendo)"
   ]
  },
  {
   "cell_type": "markdown",
   "metadata": {},
   "source": [
    "Escribe un programa que imprima las potencias de 2 desde 2 hasta 100"
   ]
  },
  {
   "cell_type": "code",
   "execution_count": 52,
   "metadata": {},
   "outputs": [],
   "source": [
    "pot=0\n",
    "while potencia <= 100:\n",
    "    pot=pot+1\n",
    "    potencia=2**pot\n",
    "    print(potencia)"
   ]
  },
  {
   "cell_type": "markdown",
   "metadata": {},
   "source": [
    "Programa para saber si un numero es primo"
   ]
  },
  {
   "cell_type": "code",
   "execution_count": 61,
   "metadata": {},
   "outputs": [
    {
     "name": "stdin",
     "output_type": "stream",
     "text": [
      "Número : 29\n"
     ]
    },
    {
     "name": "stdout",
     "output_type": "stream",
     "text": [
      "Es primo\n"
     ]
    }
   ],
   "source": [
    "primo=eval(input(\"Número :\"))\n",
    "n=1\n",
    "while (divisor<primo) and (primo%divisor!=0):\n",
    "    divisor=divisor+1\n",
    "    \n",
    "if divisor==primo:\n",
    "    print(\"Es primo\")\n",
    "else:\n",
    "    print(\"no es primo\")"
   ]
  },
  {
   "cell_type": "markdown",
   "metadata": {},
   "source": [
    "programa que lista los numenro primos del 1 al 100"
   ]
  },
  {
   "cell_type": "code",
   "execution_count": 62,
   "metadata": {},
   "outputs": [
    {
     "name": "stdin",
     "output_type": "stream",
     "text": [
      "Numero limite  375\n"
     ]
    },
    {
     "name": "stdout",
     "output_type": "stream",
     "text": [
      "2  es primo\n",
      "3  es primo\n",
      "5  es primo\n",
      "7  es primo\n",
      "11  es primo\n",
      "13  es primo\n",
      "17  es primo\n",
      "19  es primo\n",
      "23  es primo\n",
      "29  es primo\n",
      "31  es primo\n",
      "37  es primo\n",
      "41  es primo\n",
      "43  es primo\n",
      "47  es primo\n",
      "53  es primo\n",
      "59  es primo\n",
      "61  es primo\n",
      "67  es primo\n",
      "71  es primo\n",
      "73  es primo\n",
      "79  es primo\n",
      "83  es primo\n",
      "89  es primo\n",
      "97  es primo\n",
      "101  es primo\n",
      "103  es primo\n",
      "107  es primo\n",
      "109  es primo\n",
      "113  es primo\n",
      "127  es primo\n",
      "131  es primo\n",
      "137  es primo\n",
      "139  es primo\n",
      "149  es primo\n",
      "151  es primo\n",
      "157  es primo\n",
      "163  es primo\n",
      "167  es primo\n",
      "173  es primo\n",
      "179  es primo\n",
      "181  es primo\n",
      "191  es primo\n",
      "193  es primo\n",
      "197  es primo\n",
      "199  es primo\n",
      "211  es primo\n",
      "223  es primo\n",
      "227  es primo\n",
      "229  es primo\n",
      "233  es primo\n",
      "239  es primo\n",
      "241  es primo\n",
      "251  es primo\n",
      "257  es primo\n",
      "263  es primo\n",
      "269  es primo\n",
      "271  es primo\n",
      "277  es primo\n",
      "281  es primo\n",
      "283  es primo\n",
      "293  es primo\n",
      "307  es primo\n",
      "311  es primo\n",
      "313  es primo\n",
      "317  es primo\n",
      "331  es primo\n",
      "337  es primo\n",
      "347  es primo\n",
      "349  es primo\n",
      "353  es primo\n",
      "359  es primo\n",
      "367  es primo\n",
      "373  es primo\n"
     ]
    }
   ],
   "source": [
    "lim=eval(input(\"Numero limite \"))\n",
    "candidato_a_primo=1\n",
    "while candidato_a_primo < lim:\n",
    "    divisor=2\n",
    "        \n",
    "    while (divisor<candidato_a_primo) and (candidato_a_primo%divisor!=0):\n",
    "        divisor=divisor+1\n",
    "\n",
    "    if divisor==candidato_a_primo:\n",
    "        print(candidato_a_primo,\" es primo\")\n",
    "#    else:\n",
    "#        print(candidato_a_primo, \" no es primo\")\n",
    "    candidato_a_primo = candidato_a_primo + 1"
   ]
  }
 ],
 "metadata": {
  "kernelspec": {
   "display_name": "Python 3",
   "language": "python",
   "name": "python3"
  },
  "language_info": {
   "codemirror_mode": {
    "name": "ipython",
    "version": 3
   },
   "file_extension": ".py",
   "mimetype": "text/x-python",
   "name": "python",
   "nbconvert_exporter": "python",
   "pygments_lexer": "ipython3",
   "version": "3.8.3"
  }
 },
 "nbformat": 4,
 "nbformat_minor": 4
}
