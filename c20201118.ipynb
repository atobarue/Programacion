{
 "cells": [
  {
   "cell_type": "markdown",
   "metadata": {},
   "source": [
    "### 18 de noviembre \n",
    "### estructuras de control"
   ]
  },
  {
   "cell_type": "code",
   "execution_count": null,
   "metadata": {},
   "outputs": [],
   "source": [
    "nombre = input(\"Escribe tu nombre: \")\n",
    "if nombre == \"Luis\":\n",
    "    print (\"Hola \", nombre)\n",
    "    print (\"¿qué tal estás?\")\n",
    "elif nombre==\"Juan\":\n",
    "    print(\"no me caes bien\")\n",
    "print (\"Hasta luego\", nombre)"
   ]
  },
  {
   "cell_type": "code",
   "execution_count": null,
   "metadata": {},
   "outputs": [],
   "source": [
    "num=input(\"Dime un numero: \")\n",
    "if num.isdigit():\n",
    "    num=eval(num)\n",
    "    if num%2==0:\n",
    "        print(\"Es par\")\n",
    "    else:\n",
    "        print(\"es impar\")\n",
    "else:\n",
    "   print (\"eso no es un numero\")\n",
    "    "
   ]
  },
  {
   "cell_type": "code",
   "execution_count": null,
   "metadata": {},
   "outputs": [],
   "source": [
    "a=0\n",
    "while a < 10:\n",
    "    a=a+1\n",
    "    print(a)"
   ]
  },
  {
   "cell_type": "code",
   "execution_count": null,
   "metadata": {},
   "outputs": [],
   "source": [
    "dividendo=eval(input(\"Dividendo \"))\n",
    "divisor=eval(input(\"Divisor \"))\n",
    "cociente=0\n",
    "while dividendo >= divisor:\n",
    "    cociente=cociente + 1\n",
    "    dividendo = dividendo - divisor\n",
    "    \n",
    "print(\"ccociente: \",cociente)\n",
    "print(\"Resto \",dividendo)"
   ]
  },
  {
   "cell_type": "markdown",
   "metadata": {},
   "source": [
    "Escribe un programa que imprima las potencias de 2 desde 2 hasta 100"
   ]
  },
  {
   "cell_type": "code",
   "execution_count": null,
   "metadata": {},
   "outputs": [],
   "source": [
    "pot=0\n",
    "while potencia <= 100:\n",
    "    pot=pot+1\n",
    "    potencia=2**pot\n",
    "    print(potencia)"
   ]
  },
  {
   "cell_type": "markdown",
   "metadata": {},
   "source": [
    "Programa para saber si un numero es primo"
   ]
  },
  {
   "cell_type": "code",
   "execution_count": null,
   "metadata": {},
   "outputs": [],
   "source": [
    "primo=eval(input(\"Número :\"))\n",
    "n=1\n",
    "while (divisor<primo) and (primo%divisor!=0):\n",
    "    divisor=divisor+1\n",
    "    \n",
    "if divisor==primo:\n",
    "    print(\"Es primo\")\n",
    "else:\n",
    "    print(\"no es primo\")"
   ]
  },
  {
   "cell_type": "markdown",
   "metadata": {},
   "source": [
    "programa que lista los numenro primos del 1 al 100"
   ]
  },
  {
   "cell_type": "code",
   "execution_count": null,
   "metadata": {},
   "outputs": [],
   "source": [
    "lim=eval(input(\"Numero limite \"))\n",
    "candidato_a_primo=1\n",
    "while candidato_a_primo < lim:\n",
    "    divisor=2\n",
    "        \n",
    "    while (divisor<candidato_a_primo) and (candidato_a_primo%divisor!=0):\n",
    "        divisor=divisor+1\n",
    "\n",
    "    if divisor==candidato_a_primo:\n",
    "        print(candidato_a_primo,end=\" \")\n",
    "#    else:\n",
    "#        print(candidato_a_primo, \" no es primo\")\n",
    "    candidato_a_primo = candidato_a_primo + 1"
   ]
  },
  {
   "cell_type": "markdown",
   "metadata": {},
   "source": [
    "### Estructuras de datos: LISTAS"
   ]
  },
  {
   "cell_type": "code",
   "execution_count": null,
   "metadata": {},
   "outputs": [],
   "source": [
    "meses = ['Enero', 'Febrero', 'Marzo', 'Abril', 'Mayo', 'Junio',\n",
    "'Julio','Agosto','Septiembre','Octubre','Noviembre','Diciembre']\n",
    "print (meses)\n",
    "print(meses[6])\n"
   ]
  },
  {
   "cell_type": "code",
   "execution_count": null,
   "metadata": {},
   "outputs": [],
   "source": [
    "meses.remove(\"Febrero\")\n",
    "meses.append(\"Febrero\")\n",
    "print(meses)"
   ]
  },
  {
   "cell_type": "code",
   "execution_count": null,
   "metadata": {},
   "outputs": [],
   "source": [
    "print(len(meses))\n",
    "pos=0\n",
    "while pos < len(meses):\n",
    "    print(meses[pos])\n",
    "    pos=pos+1"
   ]
  },
  {
   "cell_type": "markdown",
   "metadata": {},
   "source": [
    "### Bucle for (pensado para recorrer estructuras de datos)"
   ]
  },
  {
   "cell_type": "code",
   "execution_count": null,
   "metadata": {},
   "outputs": [],
   "source": [
    "for mes in meses:\n",
    "    print (mes, end=' ')"
   ]
  },
  {
   "cell_type": "code",
   "execution_count": null,
   "metadata": {},
   "outputs": [],
   "source": [
    "meses.index(\"Marzo\") # devuelve la primera ocurrencia"
   ]
  },
  {
   "cell_type": "code",
   "execution_count": null,
   "metadata": {},
   "outputs": [],
   "source": [
    "meses.append(\"Marzo\")\n",
    "contador=0\n",
    "for mes in meses:\n",
    "    if mes==\"Marzo\":\n",
    "        contador+=1\n",
    "print (\"Marzo aparece %i veces\" % (contador))"
   ]
  },
  {
   "cell_type": "code",
   "execution_count": null,
   "metadata": {},
   "outputs": [],
   "source": [
    "print(meses)"
   ]
  },
  {
   "cell_type": "code",
   "execution_count": null,
   "metadata": {},
   "outputs": [],
   "source": [
    "meses.insert(1,\"Febrero\")"
   ]
  },
  {
   "cell_type": "code",
   "execution_count": null,
   "metadata": {},
   "outputs": [],
   "source": [
    "print(meses)\n",
    "len(meses)"
   ]
  },
  {
   "cell_type": "code",
   "execution_count": null,
   "metadata": {},
   "outputs": [],
   "source": [
    "del meses[12]\n",
    "del meses[12]\n",
    "print(meses)\n",
    "len(meses)"
   ]
  },
  {
   "cell_type": "code",
   "execution_count": null,
   "metadata": {},
   "outputs": [],
   "source": [
    "if \"Febrero\" in meses:\n",
    "    print(meses.index(\"Febrero\"))"
   ]
  },
  {
   "cell_type": "code",
   "execution_count": null,
   "metadata": {},
   "outputs": [],
   "source": [
    "lista_numeros=[1,2,3,4,5,6,7,8,9,10]\n",
    "nueva_lista=lista_numeros[0:12:2]\n",
    "print(nueva_lista)"
   ]
  },
  {
   "cell_type": "code",
   "execution_count": null,
   "metadata": {},
   "outputs": [],
   "source": [
    "nueva_lista=lista_numeros[0:20]\n",
    "print(nueva_lista)"
   ]
  },
  {
   "cell_type": "code",
   "execution_count": null,
   "metadata": {},
   "outputs": [],
   "source": [
    "nueva_lista=lista_numeros[0:]\n",
    "print(nueva_lista)"
   ]
  },
  {
   "cell_type": "code",
   "execution_count": null,
   "metadata": {},
   "outputs": [],
   "source": [
    "nueva_lista=lista_numeros[::]\n",
    "print(nueva_lista)"
   ]
  },
  {
   "cell_type": "code",
   "execution_count": null,
   "metadata": {},
   "outputs": [],
   "source": [
    "nueva_lista=lista_numeros[::3]\n",
    "print(nueva_lista)"
   ]
  },
  {
   "cell_type": "code",
   "execution_count": null,
   "metadata": {},
   "outputs": [],
   "source": [
    "nueva_lista=lista_numeros[::-1]\n",
    "print(nueva_lista)"
   ]
  },
  {
   "cell_type": "code",
   "execution_count": null,
   "metadata": {},
   "outputs": [],
   "source": [
    "print(lista_numeros[0])\n",
    "print(lista_numeros[len(lista_numeros) -1])"
   ]
  },
  {
   "cell_type": "markdown",
   "metadata": {},
   "source": [
    "### Ejercicios"
   ]
  },
  {
   "cell_type": "code",
   "execution_count": null,
   "metadata": {},
   "outputs": [],
   "source": [
    "### Escribe un programa que pida un número\n",
    "### Si es menor que 0 imprime \"Negativo\", si es mayor, imprime \"Positivo\", y si es 0, imprime \"Cero\"\n",
    "\n"
   ]
  },
  {
   "cell_type": "code",
   "execution_count": null,
   "metadata": {},
   "outputs": [],
   "source": [
    "numero=eval(input(\"Escribe un número:\"))\n",
    "if numero<0:\n",
    "    print(\"Negativo\")\n",
    "elif numero > 0:\n",
    "    print (\"Positivo\")\n",
    "else:\n",
    "    print(\"es cero\")"
   ]
  },
  {
   "cell_type": "code",
   "execution_count": null,
   "metadata": {},
   "outputs": [],
   "source": [
    "### Haz un programa que pida un color. Si el usuario escribe \"azul\" o \"Azul\", el programa responde \"Me gusta\". \n",
    "### Tanto si es ese color como otro al final el programa debe escribir \"Gracias\"."
   ]
  },
  {
   "cell_type": "code",
   "execution_count": null,
   "metadata": {},
   "outputs": [],
   "source": [
    "color=input(\"Escribe un color:\")\n",
    "if color==\"azul\" or color==\"Azul\":\n",
    "    print(\"Me gusta\")\n",
    "print(\"Muchas gracias\")"
   ]
  },
  {
   "cell_type": "code",
   "execution_count": null,
   "metadata": {},
   "outputs": [],
   "source": [
    "# Comprueba si un entero es par o impar\n",
    "numero = eval(input(\"Escribe un entero: \"))\n",
    "print(type(numero))\n",
    "int(numero) #### por qué no lo convierte?\n",
    "print(type(numero))\n",
    "if numero % 2 == 0:\n",
    "    print(\"Es par\")\n",
    "elif (numero % 2 == 1):\n",
    "    print(\"Es impar\")\n",
    "else:\n",
    "    print(str(numero) + \" no es un entero.\")"
   ]
  },
  {
   "cell_type": "code",
   "execution_count": null,
   "metadata": {},
   "outputs": [],
   "source": [
    "numero=\"5\"\n",
    "print(type(numero))\n",
    "int(numero)\n",
    "print(type(numero))"
   ]
  },
  {
   "cell_type": "code",
   "execution_count": null,
   "metadata": {},
   "outputs": [],
   "source": [
    "opcion=eval(input(\"Elija una opción 1, 2 o 3: \"))\n",
    "if opcion in (1,2,3):\n",
    "    if opcion==1:\n",
    "         print(\"Uno\")\n",
    "    elif opcion==2:\n",
    "        print (\"Dos\")\n",
    "    elif opcion==3:\n",
    "        print (\"Tres\")\n",
    "    print(\"Gracias\")\n",
    "else:\n",
    "    print(\"opcion errónea\")"
   ]
  },
  {
   "cell_type": "code",
   "execution_count": null,
   "metadata": {},
   "outputs": [],
   "source": [
    "### Escribe un programa que imprima las potencias de 2 desde 2 hasta 100\n",
    "resultado=1\n",
    "while resultado*2 < 100:\n",
    "    resultado=resultado*2\n",
    "    print (resultado)\n",
    "    "
   ]
  },
  {
   "cell_type": "code",
   "execution_count": null,
   "metadata": {},
   "outputs": [],
   "source": [
    "### Escribe un programa que imprima las potencias de 2 desde 1 (2**0) hasta 1024 (2**10) y que lo imprima en un línea\n",
    "### Para que imprima en la salida sin saltar a una nueva línea, acabar el print con una coma y end=\" \"\n",
    "resultado=1\n",
    "while resultado <= 2**10:\n",
    "    print (resultado,end=\" \")\n",
    "    resultado=resultado*2"
   ]
  },
  {
   "cell_type": "code",
   "execution_count": null,
   "metadata": {},
   "outputs": [],
   "source": [
    "# Pide un número entero positivo hasta tres veces\n",
    "\n",
    "intento=1\n",
    "while intento <= 3:\n",
    "    s = input(\"Escribe un número entero positivo: \")\n",
    "    if s.isdigit():\n",
    "        print (\"Has elegido bien:\", int(s))\n",
    "        break\n",
    "    intento += 1\n",
    "else:\n",
    "    print(\"Perdiste tus oportunidades\")"
   ]
  },
  {
   "cell_type": "code",
   "execution_count": 13,
   "metadata": {},
   "outputs": [
    {
     "name": "stdout",
     "output_type": "stream",
     "text": [
      "Juega a sacar tres números aleatorios del 0 al 9.\n",
      "Tienes que pasar 3 intentos. Si sale 0, 5 o 9, pierdes.\n",
      "4\n",
      "9\n",
      "Vaya, perdiste...\n"
     ]
    }
   ],
   "source": [
    "import random\n",
    "print(\"Juega a sacar tres números aleatorios del 0 al 9.\")\n",
    "print(\"Tienes que pasar 3 intentos. Si sale 0, 5 o 9, pierdes.\")\n",
    "intento = 0\n",
    "while intento < 3:\n",
    "    num = random.randint(0, 9)\n",
    "    print(num)\n",
    "    if num == 0 or num==5 or num==9:\n",
    "        print(\"Vaya, perdiste...\")\n",
    "        break\n",
    "    intento += 1\n",
    "else:\n",
    "    print(\"Premio!\")"
   ]
  },
  {
   "cell_type": "code",
   "execution_count": null,
   "metadata": {},
   "outputs": [],
   "source": [
    "# Suma y sigue\n",
    "n = 1\n",
    "suma = 0\n",
    "print(\"Vamos a sumar todos los números que introduzcas\")\n",
    "print(\"Para acabar escribe 0\")\n",
    "while n != 0:\n",
    "    print(\"Suma: \"+str(suma))\n",
    "    n = eval(input(\"Introduce un número:\"))   # hay que poner eval obligatoriamente ??????????????\n",
    "    suma = suma + n                           # suma += n\n",
    "print(\"Suma final = \"+str(suma))"
   ]
  },
  {
   "cell_type": "code",
   "execution_count": null,
   "metadata": {},
   "outputs": [],
   "source": [
    "### Escribe un programa que pida un número entero positivo al usuario y calcule \n",
    "### la suma de los dígitos de un número entero positivo. \n",
    "### Por ejemplo, la suma de 1000 sería 1, y la suma de 342 sería 9\n",
    "numero_st=input(\"Introduce un numero entero positivo: \")\n",
    "if numero_st.isdigit():\n",
    "    numero=eval(numero_st)\n",
    "    suma=0\n",
    "    while numero>0:\n",
    "        suma=suma+numero%10\n",
    "        numero=int(numero/10)\n",
    "    print(\"La suma de las cifras es: \", suma)\n",
    "else:\n",
    "    print(\"Eso no es un numero entero positivo\")"
   ]
  },
  {
   "cell_type": "markdown",
   "metadata": {},
   "source": [
    "### Ejercicios 19 de noviembre"
   ]
  },
  {
   "cell_type": "code",
   "execution_count": null,
   "metadata": {},
   "outputs": [],
   "source": [
    "### Crea una lista de ciudades, imprímela, y a continuación pide al usuario que escriba el nombre \n",
    "### de una de las ciudades e imprime su índice o un mensaje indicando que no está si no estuviera.\n",
    "l_ciudades =[\"Madrid\", \"Paris\", \"Londres\",\"Moscú\"]\n",
    "print(l_ciudades)\n",
    "ciudad=input(\"Introduce una ciudad de la lista: \")\n",
    "if ciudad in l_ciudades:\n",
    "    print(\"Indice: \",l_ciudades.index(ciudad))\n",
    "else:\n",
    "    print (\"No está en la lista, la incluyo\")\n",
    "    l_ciudades.append(ciudad)\n",
    "    print(l_ciudades)\n"
   ]
  },
  {
   "cell_type": "code",
   "execution_count": null,
   "metadata": {},
   "outputs": [],
   "source": [
    "### Añade una pregunta al programa anterior para que le pida al usuario un número\n",
    "### y muestre la ciudad correspondiente a ese índice.\n",
    "pos=eval(input(\"Dime una posición: \"))\n",
    "if pos < len(l_ciudades):\n",
    "    print(\"la ciudad en la posición  %i es %s\"  % (pos, l_ciudades[pos]))\n",
    "else:\n",
    "    print(\"No hay tantas ciudades\")"
   ]
  },
  {
   "cell_type": "code",
   "execution_count": null,
   "metadata": {},
   "outputs": [],
   "source": [
    "### Crea una lista con varios números y usando un bucle for imprime aquellos números que sean pares.\n",
    "### Mejora el programa para que al final indique el número de números pares que hay en la lista.\n",
    "\n",
    "lis=[1,2,3,4,5,6,7,8,9,0]\n",
    "\n",
    "npar=0\n",
    "for i in lis:\n",
    "    if i%2==0:\n",
    "        print(i,end=\" \")\n",
    "        npar+=1\n",
    "print(\"\\nNumero de elementos pares: \", npar)"
   ]
  },
  {
   "cell_type": "code",
   "execution_count": null,
   "metadata": {},
   "outputs": [],
   "source": [
    "### función enumerate\n",
    "meses = ['Enero', 'Febrero', 'Marzo', 'Abril', 'Mayo', 'Junio','Julio'\\\n",
    "         ,'Agosto','Septiembre','Octubre','Noviembre','Diciembre']\n",
    "for (i, valor) in enumerate(meses):\n",
    "    print('%d: %s' % (i, valor))"
   ]
  },
  {
   "cell_type": "code",
   "execution_count": null,
   "metadata": {},
   "outputs": [],
   "source": [
    "print(type(i))\n",
    "print(type(valor))\n",
    "print(meses)\n",
    "for elem in enumerate (meses):\n",
    "    print(elem)"
   ]
  },
  {
   "cell_type": "code",
   "execution_count": 5,
   "metadata": {},
   "outputs": [
    {
     "name": "stdout",
     "output_type": "stream",
     "text": [
      "2 4 6 8 10 "
     ]
    }
   ],
   "source": [
    "### Bucle for con la función range\n",
    "### La función range() genera un objeto iterable(no una lista)\n",
    "### La función list()permite recorrer el iterador para crear una lista\n",
    "### range(stop)⇒[0, 1, 2, ... stop-1]\n",
    "### range(start, stop)-[start, start+1, start+2, ... stop-1]\n",
    "### range(start, stop, step)-[start, start+step, start+2*step, ... stop-step]\n",
    "### Para repetir una acción un número de veces: for variable in range(veces):\n",
    "\n",
    "for i in range(1,11):\n",
    "    if i%2==0:\n",
    "        print(i,end=' ')"
   ]
  },
  {
   "cell_type": "code",
   "execution_count": 1,
   "metadata": {},
   "outputs": [
    {
     "name": "stdout",
     "output_type": "stream",
     "text": [
      "1 7 13 19 25 31 "
     ]
    }
   ],
   "source": [
    "for i in range(1,34,3):\n",
    "    if i%2==1:\n",
    "        print(i,end=\" \")"
   ]
  },
  {
   "cell_type": "code",
   "execution_count": 7,
   "metadata": {},
   "outputs": [
    {
     "name": "stdout",
     "output_type": "stream",
     "text": [
      "3\n",
      "9\n",
      "8\n",
      "15\n",
      "30\n"
     ]
    }
   ],
   "source": [
    "### Función zip\n",
    "### crea pares de elementos al pasarle dos listas y se para cuando se acabe la que tenga menos elementos\n",
    "### \n",
    "list_a = [3, 9, 6, 15, 19]\n",
    "list_b = [2, 4, 8, 10, 30, 40, 50, 60, 70, 80, 90]\n",
    "for a, b in zip(list_a, list_b):\n",
    "# Imprime el mayor de cada par de elementos de las listas\n",
    "    if a>b:\n",
    "        print(a)\n",
    "    else:\n",
    "        print(b)"
   ]
  },
  {
   "cell_type": "code",
   "execution_count": 17,
   "metadata": {},
   "outputs": [
    {
     "name": "stdout",
     "output_type": "stream",
     "text": [
      "{(3, 'three'), (2, 'two'), (1, 'one')}\n"
     ]
    }
   ],
   "source": [
    "number_list = [1, 2, 3]\n",
    "str_list = ['one', 'two', 'three']\n",
    "# Two iterables are passed\n",
    "result = zip(number_list, str_list)\n",
    "# Converting iterator to set\n",
    "result_set = set(result)\n",
    "print(result_set)"
   ]
  },
  {
   "cell_type": "code",
   "execution_count": null,
   "metadata": {},
   "outputs": [],
   "source": []
  },
  {
   "cell_type": "code",
   "execution_count": 18,
   "metadata": {},
   "outputs": [
    {
     "name": "stdout",
     "output_type": "stream",
     "text": [
      "28001 MADRID\n",
      "08001 BAERCELONA\n",
      "43001 ORENSE\n"
     ]
    }
   ],
   "source": [
    "cp=[\"28001\",\"08001\",\"43001\"]\n",
    "ciudades=[\"Madrid\",\"Baercelona\",\"Orense\",\"Santader\"]\n",
    "\n",
    "for c1, c2 in zip(cp,ciudades):\n",
    "    print(c1,c2.upper())"
   ]
  },
  {
   "cell_type": "code",
   "execution_count": 20,
   "metadata": {},
   "outputs": [
    {
     "name": "stdout",
     "output_type": "stream",
     "text": [
      "['08001', '28001', '43001']\n",
      "['08001', '28001', '43001']\n"
     ]
    }
   ],
   "source": [
    "print(cp)\n",
    "cp.sort()\n",
    "print(cp)"
   ]
  },
  {
   "cell_type": "code",
   "execution_count": null,
   "metadata": {},
   "outputs": [],
   "source": [
    "#### Ejercicios pg. 109"
   ]
  },
  {
   "cell_type": "code",
   "execution_count": 23,
   "metadata": {},
   "outputs": [
    {
     "name": "stdin",
     "output_type": "stream",
     "text": [
      "introduce una cadena:  hola\n"
     ]
    },
    {
     "name": "stdout",
     "output_type": "stream",
     "text": [
      "hola\n",
      "posición 0\n",
      "posición 3\n",
      "posición 5\n",
      "la cadena  hola  está en la lista  3 veces\n",
      "['hola', 'adios', 'chao', 'hola', 'bienvenido', 'hola', 'chao']\n"
     ]
    }
   ],
   "source": [
    "### Define una función con dos argumentos, una lista de strings y un string. \n",
    "### La función debe contar cuántas veces aparece el string en la lista.\n",
    "### Comprueba si la función vale también para números.\n",
    "lista= [\"hola\",\"adios\",\"chao\",\"hola\",\"bienvenido\",\"hola\",\"chao\"]\n",
    "cadena=input(\"introduce una cadena: \")\n",
    "print(cadena)\n",
    "nveces=0\n",
    "for i in range(len(lista)):\n",
    "    if cadena==lista[i]:\n",
    "        print (\"posición\", i)\n",
    "        nveces +=1  ### idem  que nveces=nveces+1\n",
    "if nveces==0:\n",
    "    lista.append(cadena)\n",
    "print (\"la cadena \", cadena, \" está en la lista \", nveces, \"veces\")\n",
    "print (lista)"
   ]
  },
  {
   "cell_type": "code",
   "execution_count": 25,
   "metadata": {},
   "outputs": [
    {
     "name": "stdin",
     "output_type": "stream",
     "text": [
      "introduce una cadena:  hola\n"
     ]
    },
    {
     "name": "stdout",
     "output_type": "stream",
     "text": [
      "hola\n",
      "posición 0\n",
      "posición 3\n",
      "posición 5\n",
      "la cadena  hola  está en la lista  3 veces\n",
      "hola aparece un  42.86  %\n",
      "['hola', 'adios', 'chao', 'hola', 'bienvenido', 'hola', 'chao']\n"
     ]
    }
   ],
   "source": [
    "### Crea otra función que utilice la anterior para imprimir el porcentaje de veces que un elemento aparece en una lista,\n",
    "### con el formato 'xx.xx%'\n",
    "### Por ejemplo, para la lista [1, 2, 2, 4, 6, 6, 7, 8, 9, 6], porcentaje de aparecer 6 será 30.00%\n",
    "lista= [\"hola\",\"adios\",\"chao\",\"hola\",\"bienvenido\",\"hola\",\"chao\"]\n",
    "cadena=input(\"introduce una cadena: \")\n",
    "print(cadena)\n",
    "nveces=0\n",
    "for i in range(len(lista)):\n",
    "    if cadena==lista[i]:\n",
    "        print (\"posición\", i)\n",
    "        nveces +=1  ### idem  que nveces=nveces+1\n",
    "\n",
    "print (\"la cadena \", cadena, \" está en la lista \", nveces, \"veces\")\n",
    "print(cadena, \"aparece un \", round(nveces*100/len(lista),2), \" %\" )\n",
    "print (lista)"
   ]
  },
  {
   "cell_type": "code",
   "execution_count": null,
   "metadata": {},
   "outputs": [],
   "source": [
    "#### Hacer ejercicios pg. 109"
   ]
  },
  {
   "cell_type": "markdown",
   "metadata": {},
   "source": [
    "### TUPLAS"
   ]
  },
  {
   "cell_type": "code",
   "execution_count": 31,
   "metadata": {},
   "outputs": [
    {
     "name": "stdout",
     "output_type": "stream",
     "text": [
      "tres\n",
      "4\n",
      "('uno', 'dos', 'tres', 'cuatro', 'cinco', 'seis', 'siete')\n",
      "('uno', 'dos', 'tres', 'uno', 'dos', 'tres')\n",
      "('cuatro', 'cinco', 'seis', 'siete')\n"
     ]
    }
   ],
   "source": [
    "tupla1=(\"uno\",\"dos\",\"tres\")\n",
    "tupla2=(\"cuatro\",\"cinco\",\"seis\",\"siete\")\n",
    "print(tupla1[2])\n",
    "print(len(tupla2))\n",
    "print(tupla1+tupla2)\n",
    "print(tupla1*2)\n",
    "tupla1=tupla2\n",
    "print(tupla1)"
   ]
  },
  {
   "cell_type": "code",
   "execution_count": null,
   "metadata": {},
   "outputs": [],
   "source": []
  },
  {
   "cell_type": "code",
   "execution_count": 29,
   "metadata": {},
   "outputs": [
    {
     "name": "stdout",
     "output_type": "stream",
     "text": [
      "[('28001', 'Madrid'), ('08001', 'Barcelona'), ('28002', 'Madrid')]\n",
      "None\n"
     ]
    }
   ],
   "source": [
    "### se pueden hacer listas de tuplas\n",
    "lista_ciudades=[(\"28001\",\"Madrid\"),(\"08001\",\"Barcelona\"),(\"28002\",\"Madrid\")]\n",
    "print(lista_ciudades)\n",
    "print(lista_ciudades.sort())"
   ]
  },
  {
   "cell_type": "code",
   "execution_count": 32,
   "metadata": {},
   "outputs": [
    {
     "name": "stdout",
     "output_type": "stream",
     "text": [
      "28001\n",
      "28002\n"
     ]
    }
   ],
   "source": [
    "lista_ciudades=[(\"28001\",\"Madrid\"),(\"08001\",\"Barcelona\"),(\"28002\",\"Madrid\")]\n",
    "for ciudad in lista_ciudades: ###imprime los codigos postales de Madrid\n",
    "    if ciudad[1] == \"Madrid\": ### [1] segundo elemento de la tupla\n",
    "        print(ciudad[0])\n"
   ]
  },
  {
   "cell_type": "code",
   "execution_count": 33,
   "metadata": {},
   "outputs": [
    {
     "name": "stdout",
     "output_type": "stream",
     "text": [
      "[('28034', 'Madrid'), ('28001', 'Madrid'), ('08001', 'Barcelona'), ('28002', 'Madrid')]\n",
      "28034\n",
      "28001\n",
      "28002\n"
     ]
    }
   ],
   "source": [
    "lista_ciudades=[(\"28034\",\"Madrid\"),(\"28001\",\"Madrid\"),(\"08001\",\"Barcelona\"),(\"28002\",\"Madrid\")]\n",
    "print(lista_ciudades)\n",
    "for elem in lista_ciudades:\n",
    "    if \"Madrid\"==elem[1]:\n",
    "        print(elem[0])"
   ]
  },
  {
   "cell_type": "markdown",
   "metadata": {},
   "source": [
    "### Diccionarios"
   ]
  },
  {
   "cell_type": "code",
   "execution_count": 39,
   "metadata": {},
   "outputs": [
    {
     "name": "stdout",
     "output_type": "stream",
     "text": [
      "{1: 'a', 11: 'b', 2: 'aa', 12: 'bb', 3: 'aaa', 13: 'bbb', 4: 'aaaa', 14: 'bbbb', 5: 'aaaaa', 15: 'bbbbb', 6: 'aaaaaa', 16: 'bbbbbb', 7: 'aaaaaaa', 17: 'bbbbbbb', 8: 'aaaaaaaa', 18: 'bbbbbbbb', 9: 'aaaaaaaaa', 19: 'bbbbbbbbb', 10: 'aaaaaaaaaa', 20: 'bbbbbbbbbb'}\n",
      "20\n",
      "[1, 2, 3, 4, 5, 6, 7, 8, 9, 10, 11, 12, 13, 14, 15, 16, 17, 18, 19, 20]\n",
      "1 : a\n",
      "2 : aa\n",
      "3 : aaa\n",
      "4 : aaaa\n",
      "5 : aaaaa\n",
      "6 : aaaaaa\n",
      "7 : aaaaaaa\n",
      "8 : aaaaaaaa\n",
      "9 : aaaaaaaaa\n",
      "10 : aaaaaaaaaa\n",
      "11 : b\n",
      "12 : bb\n",
      "13 : bbb\n",
      "14 : bbbb\n",
      "15 : bbbbb\n",
      "16 : bbbbbb\n",
      "17 : bbbbbbb\n",
      "18 : bbbbbbbb\n",
      "19 : bbbbbbbbb\n",
      "20 : bbbbbbbbbb\n"
     ]
    }
   ],
   "source": [
    "diccionario={}\n",
    "for i in range (1,11):\n",
    "    diccionario [i]=\"a\"*i\n",
    "    diccionario [i+10]=\"b\"*i\n",
    "print(diccionario)\n",
    "print(len(diccionario))\n",
    "claves_ordenadas=sorted(diccionario)\n",
    "print(claves_ordenadas)\n",
    "for c in claves_ordenadas:\n",
    "    print(c,\":\",diccionario[c])"
   ]
  },
  {
   "cell_type": "code",
   "execution_count": 36,
   "metadata": {},
   "outputs": [
    {
     "data": {
      "text/plain": [
       "dict_values(['a', 'b', 'aa', 'bb', 'aaa', 'bbb', 'aaaa', 'bbbb', 'aaaaa', 'bbbbb', 'aaaaaa', 'bbbbbb', 'aaaaaaa', 'bbbbbbb', 'aaaaaaaa', 'bbbbbbbb', 'aaaaaaaaa', 'bbbbbbbbb', 'aaaaaaaaaa', 'bbbbbbbbbb'])"
      ]
     },
     "execution_count": 36,
     "metadata": {},
     "output_type": "execute_result"
    }
   ],
   "source": [
    "diccionario.values()"
   ]
  },
  {
   "cell_type": "code",
   "execution_count": 37,
   "metadata": {},
   "outputs": [
    {
     "data": {
      "text/plain": [
       "['a',\n",
       " 'aa',\n",
       " 'aaa',\n",
       " 'aaaa',\n",
       " 'aaaaa',\n",
       " 'aaaaaa',\n",
       " 'aaaaaaa',\n",
       " 'aaaaaaaa',\n",
       " 'aaaaaaaaa',\n",
       " 'aaaaaaaaaa',\n",
       " 'b',\n",
       " 'bb',\n",
       " 'bbb',\n",
       " 'bbbb',\n",
       " 'bbbbb',\n",
       " 'bbbbbb',\n",
       " 'bbbbbbb',\n",
       " 'bbbbbbbb',\n",
       " 'bbbbbbbbb',\n",
       " 'bbbbbbbbbb']"
      ]
     },
     "execution_count": 37,
     "metadata": {},
     "output_type": "execute_result"
    }
   ],
   "source": [
    "sorted(diccionario.values())"
   ]
  },
  {
   "cell_type": "code",
   "execution_count": null,
   "metadata": {},
   "outputs": [],
   "source": [
    "print(sorted(diccionario))"
   ]
  },
  {
   "cell_type": "code",
   "execution_count": 40,
   "metadata": {},
   "outputs": [
    {
     "name": "stdout",
     "output_type": "stream",
     "text": [
      "{'28002': 'Madrid', '08001': 'Barna', '07002': 'Badajoz', '28001': 'Madrid'}\n",
      "4\n",
      "07002 : Badajoz\n",
      "08001 : Barna\n",
      "28001 : Madrid\n",
      "28002 : Madrid\n"
     ]
    }
   ],
   "source": [
    "### Crear una función que imprima un diccionario ordenado por sus claves\n",
    "\n",
    "diccionario={\"28002\":\"Madrid\",\"08001\":\"Barna\",\"07002\":\"Badajoz\",\"28001\":\"Madrid\"}\n",
    "print(diccionario)\n",
    "print(len(diccionario))\n",
    "claves_ordenadas=sorted(diccionario)\n",
    "for c in claves_ordenadas:\n",
    "    print(c,\":\",diccionario[c])"
   ]
  },
  {
   "cell_type": "code",
   "execution_count": 44,
   "metadata": {},
   "outputs": [
    {
     "name": "stdout",
     "output_type": "stream",
     "text": [
      "dict_keys(['28002', '08001', '07002', '28001'])\n",
      "dict_values(['Madrid', 'Barna', 'Badajoz', 'Madrid'])\n"
     ]
    }
   ],
   "source": [
    "print(diccionario.keys())\n",
    "print(diccionario.values())\n"
   ]
  },
  {
   "cell_type": "code",
   "execution_count": 53,
   "metadata": {},
   "outputs": [
    {
     "name": "stdout",
     "output_type": "stream",
     "text": [
      "{('Badajoz', '07002'), ('Barna', '08001'), ('Madrid', '28002'), ('Madrid', '28001')}\n"
     ]
    },
    {
     "data": {
      "text/plain": [
       "set"
      ]
     },
     "execution_count": 53,
     "metadata": {},
     "output_type": "execute_result"
    }
   ],
   "source": [
    "### Crear otra función que imprima un diccionario ordenado por sus valores.\n",
    "### Hacer un programa que pruebe ambas funciones con el diccionario del ejemplo anterior\n",
    "result = zip(diccionario.values(),diccionario.keys())\n",
    "result_set = set(result)\n",
    "print(result_set)\n",
    "type(result_set)\n"
   ]
  },
  {
   "cell_type": "code",
   "execution_count": 72,
   "metadata": {},
   "outputs": [
    {
     "name": "stdout",
     "output_type": "stream",
     "text": [
      "[('07002', 'Badajoz'), ('08001', 'Barna'), ('28002', 'Madrid'), ('28001', 'Madrid')]\n",
      "<class 'list'>\n",
      "4\n",
      "07002\n",
      "('07002', 'Badajoz')\n",
      "('08001', 'Barna')\n",
      "('28002', 'Madrid')\n",
      "('28001', 'Madrid')\n"
     ]
    }
   ],
   "source": [
    "### Crear otra función que imprima un diccionario ordenado por sus valores.\n",
    "### Hacer un programa que pruebe ambas funciones con el diccionario del ejemplo anterior\n",
    "### Se ordena con la función sorted de la librería operatos\n",
    "import operator\n",
    "Sort_diccionario= sorted(diccionario.items(), key=operator.itemgetter(1))\n",
    "print(Sort_diccionario)\n",
    "print(type(Sort_diccionario))\n",
    "print(len(Sort_diccionario))\n",
    "print(Sort_diccionario[0][0])\n",
    "for c in range(len(Sort_diccionario)):\n",
    "     print(Sort_diccionario[c])"
   ]
  },
  {
   "cell_type": "code",
   "execution_count": 71,
   "metadata": {},
   "outputs": [
    {
     "name": "stdout",
     "output_type": "stream",
     "text": [
      "07002  :  Badajoz\n",
      "08001  :  Barna\n",
      "28002  :  Madrid\n",
      "28001  :  Madrid\n"
     ]
    }
   ],
   "source": [
    "for c in range(len(Sort_diccionario)):\n",
    "     print(Sort_diccionario[c][0],\" : \",Sort_diccionario[c][1])"
   ]
  },
  {
   "cell_type": "code",
   "execution_count": null,
   "metadata": {},
   "outputs": [],
   "source": []
  }
 ],
 "metadata": {
  "kernelspec": {
   "display_name": "Python 3",
   "language": "python",
   "name": "python3"
  },
  "language_info": {
   "codemirror_mode": {
    "name": "ipython",
    "version": 3
   },
   "file_extension": ".py",
   "mimetype": "text/x-python",
   "name": "python",
   "nbconvert_exporter": "python",
   "pygments_lexer": "ipython3",
   "version": "3.8.3"
  }
 },
 "nbformat": 4,
 "nbformat_minor": 4
}
