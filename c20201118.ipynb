{
 "cells": [
  {
   "cell_type": "markdown",
   "metadata": {},
   "source": [
    "### 18 de noviembre \n",
    "### estructuras de control"
   ]
  },
  {
   "cell_type": "code",
   "execution_count": null,
   "metadata": {},
   "outputs": [],
   "source": [
    "nombre = input(\"Escribe tu nombre: \")\n",
    "if nombre == \"Luis\":\n",
    "    print (\"Hola \", nombre)\n",
    "    print (\"¿qué tal estás?\")\n",
    "elif nombre==\"Juan\":\n",
    "    print(\"no me caes bien\")\n",
    "print (\"Hasta luego\", nombre)"
   ]
  },
  {
   "cell_type": "code",
   "execution_count": null,
   "metadata": {},
   "outputs": [],
   "source": [
    "num=input(\"Dime un numero: \")\n",
    "if num.isdigit():\n",
    "    num=eval(num)\n",
    "    if num%2==0:\n",
    "        print(\"Es par\")\n",
    "    else:\n",
    "        print(\"es impar\")\n",
    "else:\n",
    "   print (\"eso no es un numero\")\n",
    "    "
   ]
  },
  {
   "cell_type": "code",
   "execution_count": null,
   "metadata": {},
   "outputs": [],
   "source": [
    "a=0\n",
    "while a < 10:\n",
    "    a=a+1\n",
    "    print(a)"
   ]
  },
  {
   "cell_type": "code",
   "execution_count": null,
   "metadata": {},
   "outputs": [],
   "source": [
    "dividendo=eval(input(\"Dividendo \"))\n",
    "divisor=eval(input(\"Divisor \"))\n",
    "cociente=0\n",
    "while dividendo >= divisor:\n",
    "    cociente=cociente + 1\n",
    "    dividendo = dividendo - divisor\n",
    "    \n",
    "print(\"ccociente: \",cociente)\n",
    "print(\"Resto \",dividendo)"
   ]
  },
  {
   "cell_type": "markdown",
   "metadata": {},
   "source": [
    "Escribe un programa que imprima las potencias de 2 desde 2 hasta 100"
   ]
  },
  {
   "cell_type": "code",
   "execution_count": null,
   "metadata": {},
   "outputs": [],
   "source": [
    "pot=0\n",
    "while potencia <= 100:\n",
    "    pot=pot+1\n",
    "    potencia=2**pot\n",
    "    print(potencia)"
   ]
  },
  {
   "cell_type": "markdown",
   "metadata": {},
   "source": [
    "Programa para saber si un numero es primo"
   ]
  },
  {
   "cell_type": "code",
   "execution_count": null,
   "metadata": {},
   "outputs": [],
   "source": [
    "primo=eval(input(\"Número :\"))\n",
    "n=1\n",
    "while (divisor<primo) and (primo%divisor!=0):\n",
    "    divisor=divisor+1\n",
    "    \n",
    "if divisor==primo:\n",
    "    print(\"Es primo\")\n",
    "else:\n",
    "    print(\"no es primo\")"
   ]
  },
  {
   "cell_type": "markdown",
   "metadata": {},
   "source": [
    "programa que lista los numenro primos del 1 al 100"
   ]
  },
  {
   "cell_type": "code",
   "execution_count": null,
   "metadata": {},
   "outputs": [],
   "source": [
    "lim=eval(input(\"Numero limite \"))\n",
    "candidato_a_primo=1\n",
    "while candidato_a_primo < lim:\n",
    "    divisor=2\n",
    "        \n",
    "    while (divisor<candidato_a_primo) and (candidato_a_primo%divisor!=0):\n",
    "        divisor=divisor+1\n",
    "\n",
    "    if divisor==candidato_a_primo:\n",
    "        print(candidato_a_primo,end=\" \")\n",
    "#    else:\n",
    "#        print(candidato_a_primo, \" no es primo\")\n",
    "    candidato_a_primo = candidato_a_primo + 1"
   ]
  },
  {
   "cell_type": "markdown",
   "metadata": {},
   "source": [
    "### Estructuras de datos: LISTAS"
   ]
  },
  {
   "cell_type": "code",
   "execution_count": null,
   "metadata": {},
   "outputs": [],
   "source": [
    "meses = ['Enero', 'Febrero', 'Marzo', 'Abril', 'Mayo', 'Junio',\n",
    "'Julio','Agosto','Septiembre','Octubre','Noviembre','Diciembre']\n",
    "print (meses)\n",
    "print(meses[6])\n"
   ]
  },
  {
   "cell_type": "code",
   "execution_count": null,
   "metadata": {},
   "outputs": [],
   "source": [
    "meses.remove(\"Febrero\")\n",
    "meses.append(\"Febrero\")\n",
    "print(meses)"
   ]
  },
  {
   "cell_type": "code",
   "execution_count": null,
   "metadata": {},
   "outputs": [],
   "source": [
    "print(len(meses))\n",
    "pos=0\n",
    "while pos < len(meses):\n",
    "    print(meses[pos])\n",
    "    pos=pos+1"
   ]
  },
  {
   "cell_type": "markdown",
   "metadata": {},
   "source": [
    "### Bucle for (pensado para recorrer estructuras de datos)"
   ]
  },
  {
   "cell_type": "code",
   "execution_count": null,
   "metadata": {},
   "outputs": [],
   "source": [
    "for mes in meses:\n",
    "    print (mes, end=' ')"
   ]
  },
  {
   "cell_type": "code",
   "execution_count": null,
   "metadata": {},
   "outputs": [],
   "source": [
    "meses.index(\"Marzo\") # devuelve la primera ocurrencia"
   ]
  },
  {
   "cell_type": "code",
   "execution_count": null,
   "metadata": {},
   "outputs": [],
   "source": [
    "meses.append(\"Marzo\")\n",
    "contador=0\n",
    "for mes in meses:\n",
    "    if mes==\"Marzo\":\n",
    "        contador+=1\n",
    "print (\"Marzo aparece %i veces\" % (contador))"
   ]
  },
  {
   "cell_type": "code",
   "execution_count": null,
   "metadata": {},
   "outputs": [],
   "source": [
    "print(meses)"
   ]
  },
  {
   "cell_type": "code",
   "execution_count": null,
   "metadata": {},
   "outputs": [],
   "source": [
    "meses.insert(1,\"Febrero\")"
   ]
  },
  {
   "cell_type": "code",
   "execution_count": null,
   "metadata": {},
   "outputs": [],
   "source": [
    "print(meses)\n",
    "len(meses)"
   ]
  },
  {
   "cell_type": "code",
   "execution_count": null,
   "metadata": {},
   "outputs": [],
   "source": [
    "del meses[12]\n",
    "del meses[12]\n",
    "print(meses)\n",
    "len(meses)"
   ]
  },
  {
   "cell_type": "code",
   "execution_count": null,
   "metadata": {},
   "outputs": [],
   "source": [
    "if \"Febrero\" in meses:\n",
    "    print(meses.index(\"Febrero\"))"
   ]
  },
  {
   "cell_type": "code",
   "execution_count": null,
   "metadata": {},
   "outputs": [],
   "source": [
    "lista_numeros=[1,2,3,4,5,6,7,8,9,10]\n",
    "nueva_lista=lista_numeros[0:12:2]\n",
    "print(nueva_lista)"
   ]
  },
  {
   "cell_type": "code",
   "execution_count": null,
   "metadata": {},
   "outputs": [],
   "source": [
    "nueva_lista=lista_numeros[0:20]\n",
    "print(nueva_lista)"
   ]
  },
  {
   "cell_type": "code",
   "execution_count": null,
   "metadata": {},
   "outputs": [],
   "source": [
    "nueva_lista=lista_numeros[0:]\n",
    "print(nueva_lista)"
   ]
  },
  {
   "cell_type": "code",
   "execution_count": null,
   "metadata": {},
   "outputs": [],
   "source": [
    "nueva_lista=lista_numeros[::]\n",
    "print(nueva_lista)"
   ]
  },
  {
   "cell_type": "code",
   "execution_count": null,
   "metadata": {},
   "outputs": [],
   "source": [
    "nueva_lista=lista_numeros[::3]\n",
    "print(nueva_lista)"
   ]
  },
  {
   "cell_type": "code",
   "execution_count": null,
   "metadata": {},
   "outputs": [],
   "source": [
    "nueva_lista=lista_numeros[::-1]\n",
    "print(nueva_lista)"
   ]
  },
  {
   "cell_type": "code",
   "execution_count": null,
   "metadata": {},
   "outputs": [],
   "source": [
    "print(lista_numeros[0])\n",
    "print(lista_numeros[len(lista_numeros) -1])"
   ]
  },
  {
   "cell_type": "markdown",
   "metadata": {},
   "source": [
    "### Ejercicios"
   ]
  },
  {
   "cell_type": "code",
   "execution_count": null,
   "metadata": {},
   "outputs": [],
   "source": [
    "### Escribe un programa que pida un número\n",
    "### Si es menor que 0 imprime \"Negativo\", si es mayor, imprime \"Positivo\", y si es 0, imprime \"Cero\"\n",
    "\n"
   ]
  },
  {
   "cell_type": "code",
   "execution_count": null,
   "metadata": {},
   "outputs": [],
   "source": [
    "numero=eval(input(\"Escribe un número:\"))\n",
    "if numero<0:\n",
    "    print(\"Negativo\")\n",
    "elif numero > 0:\n",
    "    print (\"Positivo\")\n",
    "else:\n",
    "    print(\"es cero\")"
   ]
  },
  {
   "cell_type": "code",
   "execution_count": null,
   "metadata": {},
   "outputs": [],
   "source": [
    "### Haz un programa que pida un color. Si el usuario escribe \"azul\" o \"Azul\", el programa responde \"Me gusta\". \n",
    "### Tanto si es ese color como otro al final el programa debe escribir \"Gracias\"."
   ]
  },
  {
   "cell_type": "code",
   "execution_count": null,
   "metadata": {},
   "outputs": [],
   "source": [
    "color=input(\"Escribe un color:\")\n",
    "if color==\"azul\" or color==\"Azul\":\n",
    "    print(\"Me gusta\")\n",
    "print(\"Muchas gracias\")"
   ]
  },
  {
   "cell_type": "code",
   "execution_count": null,
   "metadata": {},
   "outputs": [],
   "source": [
    "# Comprueba si un entero es par o impar\n",
    "numero = eval(input(\"Escribe un entero: \"))\n",
    "print(type(numero))\n",
    "int(numero) #### por qué no lo convierte?\n",
    "print(type(numero))\n",
    "if numero % 2 == 0:\n",
    "    print(\"Es par\")\n",
    "elif (numero % 2 == 1):\n",
    "    print(\"Es impar\")\n",
    "else:\n",
    "    print(str(numero) + \" no es un entero.\")"
   ]
  },
  {
   "cell_type": "code",
   "execution_count": null,
   "metadata": {},
   "outputs": [],
   "source": [
    "numero=\"5\"\n",
    "print(type(numero))\n",
    "int(numero)\n",
    "print(type(numero))"
   ]
  },
  {
   "cell_type": "code",
   "execution_count": null,
   "metadata": {},
   "outputs": [],
   "source": [
    "opcion=eval(input(\"Elija una opción 1, 2 o 3: \"))\n",
    "if opcion in (1,2,3):\n",
    "    if opcion==1:\n",
    "         print(\"Uno\")\n",
    "    elif opcion==2:\n",
    "        print (\"Dos\")\n",
    "    elif opcion==3:\n",
    "        print (\"Tres\")\n",
    "    print(\"Gracias\")\n",
    "else:\n",
    "    print(\"opcion errónea\")"
   ]
  },
  {
   "cell_type": "code",
   "execution_count": null,
   "metadata": {},
   "outputs": [],
   "source": [
    "### Escribe un programa que imprima las potencias de 2 desde 2 hasta 100\n",
    "resultado=1\n",
    "while resultado*2 < 100:\n",
    "    resultado=resultado*2\n",
    "    print (resultado)\n",
    "    "
   ]
  },
  {
   "cell_type": "code",
   "execution_count": null,
   "metadata": {},
   "outputs": [],
   "source": [
    "### Escribe un programa que imprima las potencias de 2 desde 1 (2**0) hasta 1024 (2**10) y que lo imprima en un línea\n",
    "### Para que imprima en la salida sin saltar a una nueva línea, acabar el print con una coma y end=\" \"\n",
    "resultado=1\n",
    "while resultado <= 2**10:\n",
    "    print (resultado,end=\" \")\n",
    "    resultado=resultado*2"
   ]
  },
  {
   "cell_type": "code",
   "execution_count": null,
   "metadata": {},
   "outputs": [],
   "source": [
    "# Pide un número entero positivo hasta tres veces\n",
    "\n",
    "intento=1\n",
    "while intento <= 3:\n",
    "    s = input(\"Escribe un número entero positivo: \")\n",
    "    if s.isdigit():\n",
    "        print (\"Has elegido bien:\", int(s))\n",
    "        break\n",
    "    intento += 1\n",
    "else:\n",
    "    print(\"Perdiste tus oportunidades\")"
   ]
  },
  {
   "cell_type": "code",
   "execution_count": null,
   "metadata": {},
   "outputs": [],
   "source": [
    "import random\n",
    "print(\"Juega a sacar tres números aleatorios del 0 al 9.\")\n",
    "print(\"Tienes que pasar 3 intentos. Si sale 0, 5 o 9, pierdes.\")\n",
    "intento = 0\n",
    "while intento < 3:\n",
    "    num = random.randint(0, 9)\n",
    "    print(num)\n",
    "    if num == 0 or num==5 or num==9:\n",
    "        print(\"Vaya, perdiste...\")\n",
    "        break\n",
    "    intento += 1\n",
    "else:\n",
    "    print(\"Premio!\")"
   ]
  },
  {
   "cell_type": "code",
   "execution_count": null,
   "metadata": {},
   "outputs": [],
   "source": [
    "# Suma y sigue\n",
    "n = 1\n",
    "suma = 0\n",
    "print(\"Vamos a sumar todos los números que introduzcas\")\n",
    "print(\"Para acabar escribe 0\")\n",
    "while n != 0:\n",
    "    print(\"Suma: \"+str(suma))\n",
    "    n = eval(input(\"Introduce un número:\"))   # hay que poner eval obligatoriamente ??????????????\n",
    "    suma = suma + n                           # suma += n\n",
    "print(\"Suma final = \"+str(suma))"
   ]
  },
  {
   "cell_type": "code",
   "execution_count": null,
   "metadata": {},
   "outputs": [],
   "source": [
    "### Escribe un programa que pida un número entero positivo al usuario y calcule \n",
    "### la suma de los dígitos de un número entero positivo. \n",
    "### Por ejemplo, la suma de 1000 sería 1, y la suma de 342 sería 9\n",
    "numero_st=input(\"Introduce un numero entero positivo: \")\n",
    "if numero_st.isdigit():\n",
    "    numero=eval(numero_st)\n",
    "    suma=0\n",
    "    while numero>0:\n",
    "        suma=suma+numero%10\n",
    "        numero=int(numero/10)\n",
    "    print(\"La suma de las cifras es: \", suma)\n",
    "else:\n",
    "    print(\"Eso no es un numero entero positivo\")"
   ]
  },
  {
   "cell_type": "markdown",
   "metadata": {},
   "source": [
    "### Ejercicios 19 de noviembre"
   ]
  },
  {
   "cell_type": "code",
   "execution_count": null,
   "metadata": {},
   "outputs": [],
   "source": [
    "### Crea una lista de ciudades, imprímela, y a continuación pide al usuario que escriba el nombre \n",
    "### de una de las ciudades e imprime su índice o un mensaje indicando que no está si no estuviera.\n",
    "l_ciudades =[\"Madrid\", \"Paris\", \"Londres\",\"Moscú\"]\n",
    "print(l_ciudades)\n",
    "ciudad=input(\"Introduce una ciudad de la lista: \")\n",
    "if ciudad in l_ciudades:\n",
    "    print(\"Indice: \",l_ciudades.index(ciudad))\n",
    "else:\n",
    "    print (\"No está en la lista, la incluyo\")\n",
    "    l_ciudades.append(ciudad)\n",
    "    print(l_ciudades)\n"
   ]
  },
  {
   "cell_type": "code",
   "execution_count": null,
   "metadata": {},
   "outputs": [],
   "source": [
    "### Añade una pregunta al programa anterior para que le pida al usuario un número\n",
    "### y muestre la ciudad correspondiente a ese índice.\n",
    "pos=eval(input(\"Dime una posición: \"))\n",
    "if pos < len(l_ciudades):\n",
    "    print(\"la ciudad en la posición  %i es %s\"  % (pos, l_ciudades[pos]))\n",
    "else:\n",
    "    print(\"No hay tantas ciudades\")"
   ]
  },
  {
   "cell_type": "code",
   "execution_count": null,
   "metadata": {},
   "outputs": [],
   "source": [
    "### Crea una lista con varios números y usando un bucle for imprime aquellos números que sean pares.\n",
    "### Mejora el programa para que al final indique el número de números pares que hay en la lista.\n",
    "\n",
    "lis=[1,2,3,4,5,6,7,8,9,0]\n",
    "\n",
    "npar=0\n",
    "for i in lis:\n",
    "    if i%2==0:\n",
    "        print(i,end=\" \")\n",
    "        npar+=1\n",
    "print(\"\\nNumero de elementos pares: \", npar)"
   ]
  },
  {
   "cell_type": "code",
   "execution_count": null,
   "metadata": {},
   "outputs": [],
   "source": [
    "### función enumerate\n",
    "meses = ['Enero', 'Febrero', 'Marzo', 'Abril', 'Mayo', 'Junio','Julio'\\\n",
    "         ,'Agosto','Septiembre','Octubre','Noviembre','Diciembre']\n",
    "for (i, valor) in enumerate(meses):\n",
    "    print('%d: %s' % (i, valor))"
   ]
  },
  {
   "cell_type": "code",
   "execution_count": null,
   "metadata": {},
   "outputs": [],
   "source": [
    "print(type(i))\n",
    "print(type(valor))\n",
    "print(meses)\n",
    "for elem in enumerate (meses):\n",
    "    print(elem)"
   ]
  },
  {
   "cell_type": "code",
   "execution_count": null,
   "metadata": {},
   "outputs": [],
   "source": [
    "### Bucle for con la función range\n",
    "### La función range() genera un objeto iterable(no una lista)\n",
    "### La función list()permite recorrer el iterador para crear una lista\n",
    "### range(stop)⇒[0, 1, 2, ... stop-1]\n",
    "### range(start, stop)-[start, start+1, start+2, ... stop-1]\n",
    "### range(start, stop, step)-[start, start+step, start+2*step, ... stop-step]\n",
    "### Para repetir una acción un número de veces: for variable in range(veces):\n",
    "\n",
    "for i in range(1,11):\n",
    "    if i%2==0:\n",
    "        print(i,end=' ')"
   ]
  },
  {
   "cell_type": "code",
   "execution_count": null,
   "metadata": {},
   "outputs": [],
   "source": [
    "for i in range(1,34,3):\n",
    "    if i%2==1:\n",
    "        print(i,end=\" \")"
   ]
  },
  {
   "cell_type": "code",
   "execution_count": null,
   "metadata": {},
   "outputs": [],
   "source": [
    "### Función zip\n",
    "### crea pares de elementos al pasarle dos listas y se para cuando se acabe la que tenga menos elementos\n",
    "### \n",
    "list_a = [3, 9, 6, 15, 19]\n",
    "list_b = [2, 4, 8, 10, 30, 40, 50, 60, 70, 80, 90]\n",
    "for a, b in zip(list_a, list_b):\n",
    "# Imprime el mayor de cada par de elementos de las listas\n",
    "    if a>b:\n",
    "        print(a)\n",
    "    else:\n",
    "        print(b)"
   ]
  },
  {
   "cell_type": "code",
   "execution_count": null,
   "metadata": {},
   "outputs": [],
   "source": [
    "number_list = [1, 2, 3]\n",
    "str_list = ['one', 'two', 'three']\n",
    "# Two iterables are passed\n",
    "result = zip(number_list, str_list)\n",
    "# Converting iterator to set\n",
    "result_set = set(result)\n",
    "print(result_set)"
   ]
  },
  {
   "cell_type": "code",
   "execution_count": null,
   "metadata": {},
   "outputs": [],
   "source": []
  },
  {
   "cell_type": "code",
   "execution_count": null,
   "metadata": {},
   "outputs": [],
   "source": [
    "cp=[\"28001\",\"08001\",\"43001\"]\n",
    "ciudades=[\"Madrid\",\"Baercelona\",\"Orense\",\"Santader\"]\n",
    "\n",
    "for c1, c2 in zip(cp,ciudades):\n",
    "    print(c1,c2.upper())"
   ]
  },
  {
   "cell_type": "code",
   "execution_count": null,
   "metadata": {},
   "outputs": [],
   "source": [
    "print(cp)\n",
    "cp.sort()\n",
    "print(cp)"
   ]
  },
  {
   "cell_type": "code",
   "execution_count": null,
   "metadata": {},
   "outputs": [],
   "source": [
    "#### Ejercicios pg. 109"
   ]
  },
  {
   "cell_type": "code",
   "execution_count": null,
   "metadata": {},
   "outputs": [],
   "source": [
    "### Define una función con dos argumentos, una lista de strings y un string. \n",
    "### La función debe contar cuántas veces aparece el string en la lista.\n",
    "### Comprueba si la función vale también para números.\n",
    "lista= [\"hola\",\"adios\",\"chao\",\"hola\",\"bienvenido\",\"hola\",\"chao\"]\n",
    "cadena=input(\"introduce una cadena: \")\n",
    "print(cadena)\n",
    "nveces=0\n",
    "for i in range(len(lista)):\n",
    "    if cadena==lista[i]:\n",
    "        print (\"posición\", i)\n",
    "        nveces +=1  ### idem  que nveces=nveces+1\n",
    "if nveces==0:\n",
    "    lista.append(cadena)\n",
    "print (\"la cadena \", cadena, \" está en la lista \", nveces, \"veces\")\n",
    "print (lista)"
   ]
  },
  {
   "cell_type": "code",
   "execution_count": null,
   "metadata": {},
   "outputs": [],
   "source": [
    "### Crea otra función que utilice la anterior para imprimir el porcentaje de veces que un elemento aparece en una lista,\n",
    "### con el formato 'xx.xx%'\n",
    "### Por ejemplo, para la lista [1, 2, 2, 4, 6, 6, 7, 8, 9, 6], porcentaje de aparecer 6 será 30.00%\n",
    "lista= [\"hola\",\"adios\",\"chao\",\"hola\",\"bienvenido\",\"hola\",\"chao\"]\n",
    "cadena=input(\"introduce una cadena: \")\n",
    "print(cadena)\n",
    "nveces=0\n",
    "for i in range(len(lista)):\n",
    "    if cadena==lista[i]:\n",
    "        print (\"posición\", i)\n",
    "        nveces +=1  ### idem  que nveces=nveces+1\n",
    "\n",
    "print (\"la cadena \", cadena, \" está en la lista \", nveces, \"veces\")\n",
    "print(cadena, \"aparece un \", round(nveces*100/len(lista),2), \" %\" )\n",
    "print (lista)"
   ]
  },
  {
   "cell_type": "code",
   "execution_count": null,
   "metadata": {},
   "outputs": [],
   "source": [
    "#### Hacer ejercicios pg. 109"
   ]
  },
  {
   "cell_type": "markdown",
   "metadata": {},
   "source": [
    "### TUPLAS"
   ]
  },
  {
   "cell_type": "code",
   "execution_count": null,
   "metadata": {},
   "outputs": [],
   "source": [
    "tupla1=(\"uno\",\"dos\",\"tres\")\n",
    "tupla2=(\"cuatro\",\"cinco\",\"seis\",\"siete\")\n",
    "print(tupla1[2])\n",
    "print(len(tupla2))\n",
    "print(tupla1+tupla2)\n",
    "print(tupla1*2)\n",
    "tupla1=tupla2\n",
    "print(tupla1)"
   ]
  },
  {
   "cell_type": "code",
   "execution_count": null,
   "metadata": {},
   "outputs": [],
   "source": []
  },
  {
   "cell_type": "code",
   "execution_count": null,
   "metadata": {},
   "outputs": [],
   "source": [
    "### se pueden hacer listas de tuplas\n",
    "lista_ciudades=[(\"28001\",\"Madrid\"),(\"08001\",\"Barcelona\"),(\"28002\",\"Madrid\")]\n",
    "print(lista_ciudades)\n",
    "print(lista_ciudades.sort())"
   ]
  },
  {
   "cell_type": "code",
   "execution_count": null,
   "metadata": {},
   "outputs": [],
   "source": [
    "lista_ciudades=[(\"28001\",\"Madrid\"),(\"08001\",\"Barcelona\"),(\"28002\",\"Madrid\")]\n",
    "for ciudad in lista_ciudades: ###imprime los codigos postales de Madrid\n",
    "    if ciudad[1] == \"Madrid\": ### [1] segundo elemento de la tupla\n",
    "        print(ciudad[0])\n"
   ]
  },
  {
   "cell_type": "code",
   "execution_count": null,
   "metadata": {},
   "outputs": [],
   "source": [
    "lista_ciudades=[(\"28034\",\"Madrid\"),(\"28001\",\"Madrid\"),(\"08001\",\"Barcelona\"),(\"28002\",\"Madrid\")]\n",
    "print(lista_ciudades)\n",
    "for elem in lista_ciudades:\n",
    "    if \"Madrid\"==elem[1]:\n",
    "        print(elem[0])"
   ]
  },
  {
   "cell_type": "markdown",
   "metadata": {},
   "source": [
    "### Diccionarios"
   ]
  },
  {
   "cell_type": "code",
   "execution_count": null,
   "metadata": {},
   "outputs": [],
   "source": [
    "diccionario={}\n",
    "for i in range (1,11):\n",
    "    diccionario [i]=\"a\"*i\n",
    "    diccionario [i+10]=\"b\"*i\n",
    "print(diccionario)\n",
    "print(len(diccionario))\n",
    "claves_ordenadas=sorted(diccionario)\n",
    "print(claves_ordenadas)\n",
    "for c in claves_ordenadas:\n",
    "    print(c,\":\",diccionario[c])"
   ]
  },
  {
   "cell_type": "code",
   "execution_count": null,
   "metadata": {},
   "outputs": [],
   "source": [
    "diccionario.values()"
   ]
  },
  {
   "cell_type": "code",
   "execution_count": null,
   "metadata": {},
   "outputs": [],
   "source": [
    "sorted(diccionario.values())"
   ]
  },
  {
   "cell_type": "code",
   "execution_count": null,
   "metadata": {},
   "outputs": [],
   "source": [
    "print(sorted(diccionario))"
   ]
  },
  {
   "cell_type": "code",
   "execution_count": null,
   "metadata": {},
   "outputs": [],
   "source": [
    "### Crear una función que imprima un diccionario ordenado por sus claves\n",
    "\n",
    "diccionario={\"28002\":\"Madrid\",\"08001\":\"Barna\",\"07002\":\"Badajoz\",\"28001\":\"Madrid\",\"33029\":\"Gijon\"}\n",
    "print(diccionario)\n",
    "print(len(diccionario))\n",
    "claves_ordenadas=sorted(diccionario)\n",
    "for c in claves_ordenadas:\n",
    "    print(c,\":\",diccionario[c])"
   ]
  },
  {
   "cell_type": "code",
   "execution_count": null,
   "metadata": {},
   "outputs": [],
   "source": [
    "print(diccionario.keys())\n",
    "print(diccionario.values())\n"
   ]
  },
  {
   "cell_type": "code",
   "execution_count": null,
   "metadata": {},
   "outputs": [],
   "source": [
    "result=zip(diccionario.values(),diccionario.keys())\n",
    "result"
   ]
  },
  {
   "cell_type": "code",
   "execution_count": null,
   "metadata": {},
   "outputs": [],
   "source": [
    "### Crear otra función que imprima un diccionario ordenado por sus valores.\n",
    "### Hacer un programa que pruebe ambas funciones con el diccionario del ejemplo anterior\n",
    "### Se ordena con la función sorted de la librería operatos\n",
    "import operator\n",
    "Sort_diccionario= sorted(diccionario.items(), key=operator.itemgetter(1))\n",
    "print(Sort_diccionario)\n",
    "print(type(Sort_diccionario))\n",
    "print(len(Sort_diccionario))\n",
    "print(Sort_diccionario[0][0])\n",
    "for c in range(len(Sort_diccionario)):\n",
    "     print(Sort_diccionario[c])"
   ]
  },
  {
   "cell_type": "code",
   "execution_count": null,
   "metadata": {},
   "outputs": [],
   "source": [
    "for c in range(len(Sort_diccionario)):\n",
    "     print(Sort_diccionario[c][0],\" : \",Sort_diccionario[c][1])"
   ]
  },
  {
   "cell_type": "markdown",
   "metadata": {},
   "source": [
    "#### Dia 20 de noviembre\n"
   ]
  },
  {
   "cell_type": "code",
   "execution_count": null,
   "metadata": {},
   "outputs": [],
   "source": [
    "### Programa resuelto por Gonzalo\n",
    "diccionario={\"28002\":\"Madrid\",\"08001\":\"Barna\",\"07002\":\"Badajoz\",\"28001\":\"Madrid\",\"33029\":\"Gijon\"}\n",
    "print(diccionario)\n",
    "for k in sorted(diccionario):\n",
    "    print (k,diccionario[k])\n",
    "print()\n",
    "\n",
    "for w in sorted(diccionario, key=diccionario.get):\n",
    "    print(w, diccionario[w])"
   ]
  },
  {
   "cell_type": "code",
   "execution_count": null,
   "metadata": {},
   "outputs": [],
   "source": [
    "### Otra forma posible\n",
    "lista_ciudades=[]\n",
    "for e in diccionario:\n",
    "    lista_ciudades.append((diccionario.get(e),e))\n",
    "for ciudad in sorted(lista_ciudades):\n",
    "    print(ciudad[1],ciudad[0])"
   ]
  },
  {
   "cell_type": "markdown",
   "metadata": {},
   "source": [
    "#### Ficheros"
   ]
  },
  {
   "cell_type": "code",
   "execution_count": null,
   "metadata": {},
   "outputs": [],
   "source": [
    "### Ejemplo de escritura de fichero\n",
    "# Genera una lista con los cuadrados de 1 a 10\n",
    "cuadrados=[i**2 for i in range(1,11)]\n",
    "\n",
    "fichero = open(\"numeros.text\",\"w\")\n",
    "for n in cuadrados:\n",
    "    fichero.write(str(n) + \"\\n\")\n",
    "fichero.close()\n",
    "## si no cierro no graba\n"
   ]
  },
  {
   "cell_type": "code",
   "execution_count": 1,
   "metadata": {},
   "outputs": [
    {
     "name": "stdout",
     "output_type": "stream",
     "text": [
      "1\n",
      "4\n",
      "9\n",
      "16\n",
      "25\n",
      "36\n",
      "49\n",
      "64\n",
      "81\n",
      "100\n",
      "\n"
     ]
    }
   ],
   "source": [
    "### Lectua de fichero\n",
    "fichero = open(\"numeros.text\",\"r\")\n",
    "print(fichero.read())\n",
    "fichero.close()"
   ]
  },
  {
   "cell_type": "code",
   "execution_count": null,
   "metadata": {},
   "outputs": [],
   "source": [
    "### Lectua de fichero linea a linea\n",
    "### 1. Abrir fichero\n",
    "fichero = open(\"numeros.text\",\"r\")\n",
    "### 2. Leer fichero línea a línea\n",
    "linea = fichero.readline().strip()  #### .strip() para quitar el fin de linea\n",
    "while linea:\n",
    "    print(linea, end=\"\")\n",
    "    linea = fichero.readline().strip()\n",
    "### 3. Cerrar fichero\n",
    "fichero.close()"
   ]
  },
  {
   "cell_type": "code",
   "execution_count": null,
   "metadata": {},
   "outputs": [],
   "source": [
    "### Hacer ejercicios de ficheros"
   ]
  },
  {
   "cell_type": "markdown",
   "metadata": {},
   "source": [
    "### Gestión de Errores"
   ]
  },
  {
   "cell_type": "code",
   "execution_count": null,
   "metadata": {},
   "outputs": [],
   "source": [
    "### try:\n",
    "path=input(\"Dame la ruta del fichero:\")\n",
    "try:\n",
    "    fichero = open(path, \"w\")\n",
    "    fichero.write(\"Intento de escritura en el fichero.\")\n",
    "except IOError:\n",
    "    print (\"Error al intentar escribir el fichero\")\n",
    "except Exception: \n",
    "    print(\"¡¡¡ Qué haces, melón!!!\")\n",
    "    raise\n",
    "else:\n",
    "    print (\"Todo ha ido bien. Se ha podido escribir en el fichero\") \n",
    "    fichero.close()\n"
   ]
  },
  {
   "cell_type": "markdown",
   "metadata": {},
   "source": [
    "### Funciones"
   ]
  },
  {
   "cell_type": "code",
   "execution_count": null,
   "metadata": {},
   "outputs": [],
   "source": [
    "def hola():\n",
    "    print(\"hola\")\n",
    "    \n",
    "def saluda(nombre): # imprime un saldo en pantalla\n",
    "# nombre es un string con el nombre de la persona\n",
    "    print(\"Hola,\", nombre)\n",
    "    \n",
    "hola()\n",
    "saluda(\"Pepe\")\n",
    "hola()"
   ]
  },
  {
   "cell_type": "code",
   "execution_count": 2,
   "metadata": {},
   "outputs": [
    {
     "name": "stdin",
     "output_type": "stream",
     "text": [
      "numero 1:  33\n",
      "numero 2  23\n"
     ]
    },
    {
     "name": "stdout",
     "output_type": "stream",
     "text": [
      "33\n"
     ]
    },
    {
     "name": "stdin",
     "output_type": "stream",
     "text": [
      "numero 3  13\n"
     ]
    },
    {
     "name": "stdout",
     "output_type": "stream",
     "text": [
      "33\n"
     ]
    }
   ],
   "source": [
    "### Función que calcula el maximo de dos numeros\n",
    "def max(n1,n2):\n",
    "    if n1 > n2:\n",
    "        return n1\n",
    "    return n2\n",
    "\n",
    "num1=eval(input(\"numero 1: \"))\n",
    "num2=eval(input(\"numero 2 \"))\n",
    "print(max(num1,num2))\n",
    "num3=eval(input(\"numero 3 \"))\n",
    "print(max(max(num1,num2),num3))"
   ]
  },
  {
   "cell_type": "code",
   "execution_count": 11,
   "metadata": {},
   "outputs": [
    {
     "name": "stdout",
     "output_type": "stream",
     "text": [
      "1 2 4 8 16 32 64 128 256 512 1024 "
     ]
    }
   ],
   "source": [
    "### Ejercicio página 83:\n",
    "### Escribe una función llamada potencias2, que reciba un número n e imprima desde 1 (2**0) hasta 2**n\n",
    "\n",
    "def potencias2 (exp):\n",
    "    for i in range (exp+1):\n",
    "        print (2**i, end=\" \")\n",
    "    return\n",
    "\n",
    "potencias2(10)"
   ]
  },
  {
   "cell_type": "code",
   "execution_count": 12,
   "metadata": {},
   "outputs": [],
   "source": [
    "### Ejercicio página 83:\n",
    "### Escribe un programa que utilice esta función varias veces para probar la función, al menos para los valores 4, 8 y 10.\n",
    "###\n"
   ]
  },
  {
   "cell_type": "code",
   "execution_count": 13,
   "metadata": {},
   "outputs": [
    {
     "ename": "SyntaxError",
     "evalue": "invalid syntax (<ipython-input-13-acd1869a3079>, line 1)",
     "output_type": "error",
     "traceback": [
      "\u001b[1;36m  File \u001b[1;32m\"<ipython-input-13-acd1869a3079>\"\u001b[1;36m, line \u001b[1;32m1\u001b[0m\n\u001b[1;33m    Escribe una función llamada potencias, que recibados números x e y, e imprima los valores desde 2**x hasta 2**y.\u001b[0m\n\u001b[1;37m            ^\u001b[0m\n\u001b[1;31mSyntaxError\u001b[0m\u001b[1;31m:\u001b[0m invalid syntax\n"
     ]
    }
   ],
   "source": [
    "### Ejercicio página 83:\n",
    "### Escribe una función llamada potencias, que recibados números x e y, e imprima los valores desde 2**x hasta 2**y."
   ]
  },
  {
   "cell_type": "code",
   "execution_count": 18,
   "metadata": {},
   "outputs": [
    {
     "name": "stdout",
     "output_type": "stream",
     "text": [
      "3628800\n"
     ]
    }
   ],
   "source": [
    "### Funciones recursivas\n",
    "\n",
    "def factorial(n):\n",
    "    if n<2:\n",
    "        return 1\n",
    "    return n*factorial(n-1)\n",
    "\n",
    "print(factorial(10))"
   ]
  },
  {
   "cell_type": "code",
   "execution_count": 21,
   "metadata": {},
   "outputs": [
    {
     "name": "stdout",
     "output_type": "stream",
     "text": [
      "1 1 2 3 5\n"
     ]
    }
   ],
   "source": [
    "### Ejercicio página 86:\n",
    "def fibonacci(n):\n",
    "### Función de Fibonacci como una función recursiva.\n",
    "### Una sucesión de números enteros donde cada uno es la suma de los dos anteriores. Empieza con 0 y 1\n",
    "    if n==0: \n",
    "        return 0\n",
    "    if n==1 or n==2:\n",
    "        return 1\n",
    "    return fibonacci(n-1)+fibonacci(n-2)\n",
    "\n",
    "print (fibonacci(1),fibonacci(2),fibonacci(3),fibonacci(4), \\\n",
    "fibonacci(5))"
   ]
  },
  {
   "cell_type": "code",
   "execution_count": 29,
   "metadata": {},
   "outputs": [
    {
     "name": "stdout",
     "output_type": "stream",
     "text": [
      "[0, 1, 2]\n",
      "[0, 1, 2, 1]\n",
      "[0, 1, 2, 1]\n",
      "[0, 0, 0]\n",
      "[0, 1, 2]\n"
     ]
    }
   ],
   "source": [
    "### Los argumentos de las funciones se pasan por referencia\n",
    "def cambia(l):\n",
    "    l.append(1)\n",
    "    print(l) # [0, 1, 2, 1]\n",
    "    \n",
    "def nocambia(l):\n",
    "    l = [0, 0, 0]\n",
    "    print(l) # [0, 0, 0]\n",
    "    \n",
    "lista = [0, 1, 2]\n",
    "print(lista) # [0, 1, 2]\n",
    "cambia(lista)\n",
    "print (lista)\n",
    "\n",
    "lista = [0, 1, 2]\n",
    "nocambia(lista)\n",
    "print (lista)"
   ]
  },
  {
   "cell_type": "code",
   "execution_count": 36,
   "metadata": {},
   "outputs": [
    {
     "name": "stdout",
     "output_type": "stream",
     "text": [
      "2 4\n",
      "4 2\n",
      "2 4\n"
     ]
    }
   ],
   "source": [
    "### otro ejemplo de argumentos de las funciones se pasan por referencia\n",
    "def intercambia(n1,n2):\n",
    "    print(n1,n2)\n",
    "    n1,n2=n2,n1\n",
    "    print (n1,n2)\n",
    "\n",
    "num1=2\n",
    "num2=4\n",
    "intercambia(num1,num2)\n",
    "print(num1,num2)\n"
   ]
  },
  {
   "cell_type": "code",
   "execution_count": 37,
   "metadata": {},
   "outputs": [
    {
     "name": "stdout",
     "output_type": "stream",
     "text": [
      "7 4\n"
     ]
    }
   ],
   "source": [
    "## intercambiar\n",
    "def intercambia2 (n1,n2):\n",
    "    return n2,n1\n",
    "\n",
    "n1=4\n",
    "n2=7\n",
    "n1,n2=intercambia2(n1,n2)\n",
    "print(n1,n2)\n"
   ]
  },
  {
   "cell_type": "raw",
   "metadata": {},
   "source": [
    "### Ejercicios página 93\n",
    "### Haz una función que reciba dos números como argumentos y compare sus valores, \n",
    "### y devuelva True si son iguales y False en otro caso"
   ]
  }
 ],
 "metadata": {
  "kernelspec": {
   "display_name": "Python 3",
   "language": "python",
   "name": "python3"
  },
  "language_info": {
   "codemirror_mode": {
    "name": "ipython",
    "version": 3
   },
   "file_extension": ".py",
   "mimetype": "text/x-python",
   "name": "python",
   "nbconvert_exporter": "python",
   "pygments_lexer": "ipython3",
   "version": "3.8.3"
  }
 },
 "nbformat": 4,
 "nbformat_minor": 4
}
