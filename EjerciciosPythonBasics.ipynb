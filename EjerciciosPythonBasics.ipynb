{
 "cells": [
  {
   "cell_type": "markdown",
   "metadata": {},
   "source": [
    "**Nombre:**ALBERTO\n",
    "\n",
    "**Apellidos:**TOBARUELA DELGADO\n",
    "\n",
    "**DNI/NIE:**05352342N"
   ]
  },
  {
   "cell_type": "markdown",
   "metadata": {},
   "source": [
    "_**Nota:** para hacer todos estos ejercicios puedes consultar los apuntes de la asignatura y todas las páginas de ayuda sugeridas en ellos_"
   ]
  },
  {
   "cell_type": "markdown",
   "metadata": {},
   "source": [
    "**1. Escribe un programa que pida el alto y el ancho (en metros) de una parcela rectangular y calcule su perímetro y su área. Si esta última es mayor de una hectárea, deberá expresarse la medida en esta unidad en lugar de en $m^2$**"
   ]
  },
  {
   "cell_type": "code",
   "execution_count": 1,
   "metadata": {},
   "outputs": [
    {
     "name": "stdin",
     "output_type": "stream",
     "text": [
      "Introduzca la largo de la parcela:  2\n",
      "Introduzca la ancho de la parcela:  3\n"
     ]
    },
    {
     "name": "stdout",
     "output_type": "stream",
     "text": [
      "El perímetro de la parcela es:  10\n",
      "El área de la parcela es:  6\n"
     ]
    }
   ],
   "source": [
    "largo=eval(input(\"Introduzca la largo de la parcela: \"))\n",
    "ancho=eval(input(\"Introduzca la ancho de la parcela: \"))\n",
    "print(\"El perímetro de la parcela es: \", round(2*(largo+ancho),2))\n",
    "print(\"El área de la parcela es: \",round(largo*ancho,2))"
   ]
  },
  {
   "cell_type": "markdown",
   "metadata": {},
   "source": [
    "**2. Escribe un programa que lea los coeficientes y calule la solución de una ecuación de segundo grado de la forma $ax^2+bx+c=0$**"
   ]
  },
  {
   "cell_type": "code",
   "execution_count": 3,
   "metadata": {},
   "outputs": [
    {
     "name": "stdin",
     "output_type": "stream",
     "text": [
      "Introduzca el coeficiente cuadrático de la ecuación 2\n",
      "Introduzca el coeficiente lineal de la ecuación -7\n",
      "Introduzca el término independiente de la ecuación 3\n"
     ]
    },
    {
     "name": "stdout",
     "output_type": "stream",
     "text": [
      "Las soluciones son:  x1= 3.0  y x2= 0.5\n"
     ]
    }
   ],
   "source": [
    "import math\n",
    "a=eval(input(\"Introduzca el coeficiente cuadrático de la ecuación\"))\n",
    "b=eval(input(\"Introduzca el coeficiente lineal de la ecuación\"))\n",
    "c=eval(input(\"Introduzca el término independiente de la ecuación\"))\n",
    "print(\"Las soluciones son: \", end=\" \")\n",
    "if b**2-4*a*c < 0:   # discriminante < 0 no tiene soluciones reales\n",
    "    print (\"x1 y x2 no son números reales\")\n",
    "else:\n",
    "    print(\"x1=\",round((-b+math.sqrt(b**2-4*a*c))/(2*a) ,2), end=\" \")\n",
    "    print(\" y x2=\",round((-b-math.sqrt(b**2-4*a*c))/(2*a) ,2))"
   ]
  },
  {
   "cell_type": "markdown",
   "metadata": {},
   "source": [
    "**3. Escribe un programa que lea una cadena de texto y cuente cuántos caracteres no son letras**"
   ]
  },
  {
   "cell_type": "code",
   "execution_count": 39,
   "metadata": {},
   "outputs": [
    {
     "name": "stdin",
     "output_type": "stream",
     "text": [
      "Introduca un texto:   a e$ a\n"
     ]
    },
    {
     "name": "stdout",
     "output_type": "stream",
     "text": [
      "\n",
      " El texto: \" a e$ a\" tiene  4 caracteres que no son letras\n"
     ]
    }
   ],
   "source": [
    "cadena=input(\"Introduca un texto: \")\n",
    "i=0\n",
    "cuenta=0\n",
    "while i < len(cadena):\n",
    "    if not cadena[i].isalpha(): # si el item no es alfabético suma 1 al contador\n",
    "        cuenta +=1\n",
    "    i +=1\n",
    "print(\"\\n El texto:\", str('\"'+cadena+'\"'), \"tiene \", cuenta, \"caracteres que no son letras\" )\n"
   ]
  },
  {
   "cell_type": "markdown",
   "metadata": {},
   "source": [
    "**4. Escribe un programa que lea una cadena de texto y le quite todos los caracteres que no sean letras**"
   ]
  },
  {
   "cell_type": "code",
   "execution_count": 52,
   "metadata": {},
   "outputs": [
    {
     "name": "stdin",
     "output_type": "stream",
     "text": [
      "Introduca un texto:  a1234e\n"
     ]
    },
    {
     "name": "stdout",
     "output_type": "stream",
     "text": [
      "\n",
      " Total caracteres eliminados: 4\n",
      "\n",
      " El texto sin caracteres distintos de letras es: \"ae\"\n"
     ]
    }
   ],
   "source": [
    "cadena=input(\"Introduca un texto: \")\n",
    "i=0\n",
    "cuenta=0     # contador de caracteres eliminados\n",
    "sinletras=\"\"\n",
    "while i < len(cadena):\n",
    "    if cadena[i].isalpha():\n",
    "        sinletras=sinletras+cadena[i]  # si es letra lo incluye en la nueva cadena\n",
    "    else:\n",
    "        cuenta +=1    # si no es letra suma 1 al contador\n",
    "    i +=1\n",
    "print(\"\\n Total caracteres eliminados:\", cuenta)\n",
    "print(\"\\n El texto sin caracteres distintos de letras es:\", str('\"'+sinletras+'\"') )"
   ]
  },
  {
   "cell_type": "markdown",
   "metadata": {},
   "source": [
    "**5. Escribe un programa que lea una cadena de texto y diga si es un palíndromo**"
   ]
  },
  {
   "cell_type": "code",
   "execution_count": 1,
   "metadata": {},
   "outputs": [
    {
     "name": "stdin",
     "output_type": "stream",
     "text": [
      "Introduca un texto:  12321\n"
     ]
    },
    {
     "name": "stdout",
     "output_type": "stream",
     "text": [
      "Es un palíndromo\n"
     ]
    }
   ],
   "source": [
    "# Palabra o expresión que es igual si se lee de izquierda a derecha que de derecha a izquierda\n",
    "cadena1=input(\"Introduca un texto: \")\n",
    "cadena2=\"\"  # cadena donde invertimos el orden de los caractes de la cadena 1\n",
    "i=len(cadena1)-1\n",
    "while i >= 0:\n",
    "    cadena2=cadena2+cadena1[i]\n",
    "    i=i-1   \n",
    "# print(cadena1)\n",
    "# print(cadena2)\n",
    "if cadena1==cadena2:\n",
    "    print(\"Es un palíndromo\")\n",
    "else:\n",
    "    print(\"No es un palíndromo\")\n"
   ]
  },
  {
   "cell_type": "markdown",
   "metadata": {},
   "source": [
    "**6. Escribe un programa que lea una frase, la separe en palabras e imprima las palabras por orden de longitud. Las palabras de la misma longitud deberán imprimirse por orden lexicográfico**"
   ]
  },
  {
   "cell_type": "code",
   "execution_count": null,
   "metadata": {},
   "outputs": [],
   "source": []
  },
  {
   "cell_type": "code",
   "execution_count": 76,
   "metadata": {},
   "outputs": [
    {
     "name": "stdin",
     "output_type": "stream",
     "text": [
      "Introduca un texto:  bb ba b a aaa\n"
     ]
    },
    {
     "name": "stdout",
     "output_type": "stream",
     "text": [
      "bb 2\n",
      "ba 2\n",
      "b 1\n",
      "a 1\n",
      "aaa 3\n",
      "['bb', 'ba', 'b', 'a', 'aaa']\n",
      "[2, 2, 1, 1, 3]\n",
      "[(2, 'bb'), (2, 'ba'), (1, 'b'), (1, 'a'), (3, 'aaa')]\n",
      "[(1, 'a'), (1, 'b'), (2, 'ba'), (2, 'bb'), (3, 'aaa')]\n",
      "a 1\n",
      "b 1\n",
      "ba 2\n",
      "bb 2\n",
      "aaa 3\n"
     ]
    }
   ],
   "source": [
    "frase=input(\"Introduca un texto: \")\n",
    "i=0\n",
    "c_palabras=0    # contador de palabras. No es necesario\n",
    "lista_palabras=[] # lista donde se guardarán las palabras de la frase (incluye números)\n",
    "lista_l=[]\n",
    "while i < len(frase):\n",
    "    if frase[i].isalnum(): # Si es una letra o un dígito numérico es una palabra nueva\n",
    "        palabra=\"\"\n",
    "        c_palabras = c_palabras + 1 \n",
    "#        print(\"c_palabras:\",c_palabras)\n",
    "        j=0\n",
    "        while  i < len(frase):\n",
    "            if frase[i].isalnum():    # si el caracter de la frase es alfanumerico lo añade a la palabra texto al\n",
    "                palabra = palabra + frase[i]\n",
    "                i = i + 1\n",
    "                j = j + 1\n",
    "            else:\n",
    "                break\n",
    "        print(palabra, j)\n",
    "        lista_palabras.append(palabra) # añade la palabra a la lista de palabras\n",
    "        lista_l.append(j)\n",
    "    else:\n",
    "       i = i + 1\n",
    "\n",
    "print(lista_palabras)\n",
    "print(lista_l)\n",
    "lista_pall=[]\n",
    "i=0\n",
    "while i < c_palabras:\n",
    "    pal_l=(lista_l [i],lista_palabras[i])\n",
    "    lista_pall.append(pal_l)\n",
    "    i = i+1\n",
    "print(lista_pall)\n",
    "#sorted(lista_pall, key=lambda lista_pall: lista_pall[0])\n",
    "print(sorted(lista_pall))\n",
    "for palabra in sorted(lista_pall):\n",
    "    print (palabra[1],palabra[0])\n"
   ]
  },
  {
   "cell_type": "markdown",
   "metadata": {},
   "source": [
    "**7. Las matrículas actuales de los coches en España están compuestas por cuatro dígitos y tres consonantes. Escribe un programa que lea una matrícula, una letra y un número y nos diga si**\n",
    "  * **La matrícula contiene ese dígito**\n",
    "  * **Las letras de la matrícula comienzan con la letra dada**\n",
    "  * **Ambas cosas**\n",
    "  * **Ninguna de las dos cosas**"
   ]
  },
  {
   "cell_type": "code",
   "execution_count": 103,
   "metadata": {},
   "outputs": [
    {
     "name": "stdin",
     "output_type": "stream",
     "text": [
      "Introduzca matrícula, 4 numeros y tres letras,sin espacio entre ellos: 3891hst\n",
      "Introduzca numero a buscar 2\n",
      "Introduzca letra a buscar: h\n"
     ]
    },
    {
     "name": "stdout",
     "output_type": "stream",
     "text": [
      "La primera letra de la matrícula es H\n"
     ]
    }
   ],
   "source": [
    "matricula=input(\"Introduzca matrícula, 4 numeros y tres letras,sin espacio entre ellos:\")\n",
    "numero=input(\"Introduzca numero a buscar\")\n",
    "letra=input(\"Introduzca letra a buscar:\")\n",
    "\n",
    "matricula=matricula.upper()\n",
    "letra=letra.upper()\n",
    "\n",
    "if numero in matricula:\n",
    "    print(\"La matrícula contiene el dígito\", numero)\n",
    "if matricula[4]== letra:\n",
    "    print(\"La primera letra de la matrícula es\", letra)\n",
    "if numero in matricula and matricula[4] == letra:\n",
    "    print(\"Ambas cosas\")\n",
    "if not (numero in matricula) and not (matricula[4] == letra):\n",
    "    print(\"Ninguna de las dos cosas\")\n"
   ]
  },
  {
   "cell_type": "markdown",
   "metadata": {},
   "source": [
    "**8. Dada una lista de matrículas, un dígito y una letra, escribe un programa que nos diga cuántas matrículas cumplen cada una de las condiciones anteriores**"
   ]
  },
  {
   "cell_type": "code",
   "execution_count": 105,
   "metadata": {},
   "outputs": [
    {
     "name": "stdin",
     "output_type": "stream",
     "text": [
      "Introduzca letra a buscar: e\n",
      "Introduzca numero a buscar 6\n"
     ]
    },
    {
     "name": "stdout",
     "output_type": "stream",
     "text": [
      "('1234ABC', '1111HIJ', '3245CDF', '6823EGR')\n",
      "1  matrículas contienen el dígito  6\n",
      "1  matrículas empiezan por la letra  E\n",
      "1  matrículas cumplen ambas cosas\n",
      "3  matrículas no cumplen ninguna de las dos cosas\n"
     ]
    }
   ],
   "source": [
    "lista=(\"1234ABC\",\"1111HIJ\",\"3245CDF\",\"6823EGR\")\n",
    "letra=input(\"Introduzca letra a buscar:\")\n",
    "letra=letra.upper()\n",
    "numero=input(\"Introduzca numero a buscar\")\n",
    "c1=c2=c3=c4=0\n",
    "for matricula in lista:\n",
    "    if numero in matricula:\n",
    "        c1 = c1 + 1 # print(\"La matrícula contiene ese dígito\")\n",
    "    if matricula[4]== letra:\n",
    "        c2 = c2 +1 # print(\"Las letras de la matrícula comienzan con la letra dada\")\n",
    "    if numero in matricula and matricula[4] == letra:\n",
    "        c3 = c3 + 1 # print(\"Ambas cosas\")# \n",
    "    if not (numero in matricula) and not (matricula[4] == letra):\n",
    "        c4 = c4 + 1 # print(\"Ninguna de las dos cosas\")\n",
    "print(lista)\n",
    "print(c1, \" matrículas contienen el dígito \", numero)\n",
    "print(c2, \" matrículas empiezan por la letra \", letra)\n",
    "print(c3, \" matrículas cumplen ambas cosas\")\n",
    "print(c4, \" matrículas no cumplen ninguna de las dos cosas\")"
   ]
  },
  {
   "cell_type": "markdown",
   "metadata": {},
   "source": [
    "**9. En https://www.dieselogasolina.com/tabla-matriculas-por-anos.html puedes encontrar una tabla con las últimas letras asignadas cada mes desde el año 2000 para matricular coches. Escribe un programa que reciba la matrícula completa de un coche y devuelva el mes y el año en el que fue matriculado**"
   ]
  },
  {
   "cell_type": "code",
   "execution_count": 3,
   "metadata": {},
   "outputs": [
    {
     "name": "stdin",
     "output_type": "stream",
     "text": [
      "Introduzca matrícula, 4 numeros y tres letras,sin espacio entre ellos: 3891hast\n"
     ]
    },
    {
     "name": "stdout",
     "output_type": "stream",
     "text": [
      "3891HAST\n",
      "HBG 201012\n",
      "GZT 201011\n",
      "Año mes de matriculación: 201012\n"
     ]
    }
   ],
   "source": [
    "matr=input(\"Introduzca matrícula, 4 numeros y tres letras,sin espacio entre ellos:\")\n",
    "if not matr[4:6].isalpha() or not matr[0:3].isdigit():\n",
    "    print(matr,\"matrícula errónea\")\n",
    "else:\n",
    "    matr=matr.upper()\n",
    "    print(matr)\n",
    "    f_matr = open(\"matriculas.csv\", \"r\")\n",
    "    linea = f_matr.readline().strip()  #### linea de cabeceras .strip() para quitar el fin de linea\n",
    "    ### Hacemos un diccionario con clave las 3 letras de la matricula y  valor el año-mes\n",
    "    tabla={}\n",
    "    linea = f_matr.readline().strip()\n",
    "    while linea:\n",
    "        lista=linea.split(\";\")\n",
    "        aa=lista[0]\n",
    "        for i in range(1,13):\n",
    "            mm=str(i)\n",
    "            if len(mm)==1:\n",
    "                mm=\"0\"+mm\n",
    "            if not lista[i]==\"---\":\n",
    "                tabla[lista[i]]=aa+mm\n",
    "        linea = f_matr.readline().strip()\n",
    "    f_matr.close()   ### Cerrar fichero\n",
    "\n",
    "    k_ant=\"---\"\n",
    "    aamm_ant=\"200008\"\n",
    "    for k in sorted(tabla):\n",
    "        if matr[4:] > k:\n",
    "            k_ant=k\n",
    "            aamm_ant=tabla[k]\n",
    "        else:\n",
    "            break\n",
    "    print (k,tabla[k])\n",
    "    print (k_ant, aamm_ant)\n",
    "    if matr[4:] > k:\n",
    "        print(\"Matrícula no asignada\")\n",
    "    elif matr[4:] > k_ant:\n",
    "        print (\"Año mes de matriculación:\",tabla[k])\n",
    "    else:\n",
    "        print (\"Año mes de matriculación:\",aamm_ant)\n",
    "\n"
   ]
  },
  {
   "cell_type": "code",
   "execution_count": 10,
   "metadata": {},
   "outputs": [
    {
     "data": {
      "text/plain": [
       "True"
      ]
     },
     "execution_count": 10,
     "metadata": {},
     "output_type": "execute_result"
    }
   ],
   "source": []
  },
  {
   "cell_type": "markdown",
   "metadata": {},
   "source": [
    "**10. El índice $r$ de contagio del coronavirus mide el número medio de contagios que causa cada persona infectada. Si $r=3$ y el primer día de la epidemia hay una persona contagiada, esa persona contagiará a 3, por lo que el segundo día habrá 4 personas contagiadas. Esas tres nuevas personas contagiadas contagiarán a otras 3 cada una, por lo que habrá 9 nuevos contagiados, haciendo un total de 13 personas contagiadas. Escribe un programa que pida el número inicial de contagiados $i$, el valor del índice medio de contagios $r$ y un número $n$ de días y escriba por pantalla la evolución en el número de contagiados durante los primeros $n$ días de pandemia. Para cada día debe imprimir el número de nuevos contagios y el número de contagios acumulados**"
   ]
  },
  {
   "cell_type": "code",
   "execution_count": 29,
   "metadata": {},
   "outputs": [
    {
     "name": "stdin",
     "output_type": "stream",
     "text": [
      "Introduzca el número inicial de contagiados1:  3\n",
      "Introduzca el valor del índice medio de contagios: 3\n",
      "Introduzca el nº de días: 3\n"
     ]
    },
    {
     "name": "stdout",
     "output_type": "stream",
     "text": [
      "Día número  1 Número total contagiados  3\n",
      "Día número  2 Número total contagiados  12\n",
      "Día número  3 Número total contagiados  39\n"
     ]
    }
   ],
   "source": [
    "\n",
    "#if not i.isdigit():\n",
    "#    print (\"Enº de contagiados debe ser un numero entero\")\n",
    "#    else:\n",
    "### El problema planteado es hallar la suma de los términos de una progrsión geometrica\n",
    "### donde i el numero de contagios inicial es el primer término a1,\n",
    "### la razón es el ratio r\n",
    "### y el numero de días es el número de terminos n\n",
    "### La fórmula para calcular el nº de contagios al cabo de n días es: S = (an*r -1)/(r-1)\n",
    "### a1=i\n",
    "### an=a1*r**(n-1)\n",
    "### Sn=(an.r a1)/(r-1)\n",
    "i=eval(input(\"Introduzca el número inicial de contagiados1: \"))\n",
    "r=eval(input(\"Introduzca el valor del índice medio de contagios:\"))\n",
    "n=eval(input(\"Introduzca el nº de días:\"))\n",
    "\n",
    "a1=i\n",
    "j=1\n",
    "while j <= n:\n",
    "    an=a1*r**(j-1)\n",
    "    if r==1:\n",
    "        print(\"Día número \", j, \"Número total contagiados \", a1)\n",
    "    else:\n",
    "        print(\"Día número \", j, \"Número total contagiados \", round((an*r - a1)/(r-1)))\n",
    "    j=j+1\n"
   ]
  },
  {
   "cell_type": "markdown",
   "metadata": {},
   "source": [
    "**11. Puedes obtener una lista de códigos postales de (https://www.codigospostales.com/descarga.html). En el fichero .zip que te puedes descargar de ahí puedes obtener los códigos postales de todas las poblaciones de España, pero están estructurados de una forma un poco particular, aunque sencilla de procesar automáticamente. El objetivo último del ejercicio es obtener un fichero con un listado de todos los códigos postales de España asociados a su provincia y población, ordenados por código postal. Cada línea deberá tener el formato**  \n",
    "    *CódigoPostal Provincia Poblaciones*  \n",
    "Indicaciones para resolver el ejercicio:\n",
    "* Abre el fichero codciu.txt. En cada línea de ese fichero puedes encontrar un código compuesto por tres números o dos números y una letra, seguidos del nombre de una población o provincia.\n",
    "* Para cada línea, debes separar los tres primeros caracteres de los demás, y después\n",
    "  + Si de esos tres primeros caracteres hay dos números y una x (NNx), quiere decir que el fichero asociado contiene información de poblaciones pequeñas de la provincia. Procesa los ficheros de nombre NNxcodpos.txt y extrae los códigos postales y las poblaciones asociadas a cada código postal (puede haber varias)\n",
    "  + Si de esos tres primeros caracteres hay tres números (NNN) o dos números y una letra que no sea x (p.e. NNa), quiere decir que el fichero asociado contiene los códigos postales de poblaciones grandes, con más de un código postal. En este caso, la información aparece desglosada por todas las calles que tienen cada uno de los códigos postales, con lo que cada código postal aparece multitud de veces. Descartando la información de las calles, recopila todos los códigos postales distintos que haya en esos ficheros y asócialos a la ciudad y provincia corresondientes"
   ]
  },
  {
   "cell_type": "code",
   "execution_count": 2,
   "metadata": {},
   "outputs": [
    {
     "name": "stdout",
     "output_type": "stream",
     "text": [
      "010Vitoria-Gasteiz\n",
      "01xAraba-Álava\n",
      "020Albacete\n",
      "02xAlbacete\n",
      "030Alacant-Alicante\n",
      "031Alcoi-Alcoy\n",
      "032Elx-Elche\n",
      "035Benidorm\n",
      "036Torrevieja\n",
      "03xAlicante\n",
      "040Almería\n",
      "04xAlmería\n",
      "050Ávila\n",
      "05xÁvila\n",
      "060Badajoz\n",
      "06xBadajoz\n",
      "070Palma de Mallorca\n",
      "072Maó\n",
      "07xIlles Balears\n",
      "080Barcelona\n",
      "081Badalona\n",
      "082Hospitalet de Llobregat,l'\n",
      "083Mataró\n",
      "084Sabadell\n",
      "085Santa Coloma de Gramanet\n",
      "086Terrassa\n",
      "087Manresa \n",
      "088Sant Cugat del Vallés\n",
      "089Granollers\n",
      "08xBarcelona\n",
      "090Burgos\n",
      "09xBurgos\n",
      "100Cáceres\n",
      "10xCáceres\n",
      "110Cádiz\n",
      "111Algeciras\n",
      "113Jerez de la Frontera\n",
      "11xCádiz\n",
      "120Castelló-Castellón de la Plana\n",
      "12xCastellón\n",
      "130Ciudad Real\n",
      "13xCiudad Real\n",
      "140Córdoba\n",
      "14xCórdoba\n",
      "150A Coruña\n",
      "151Ferrol\n",
      "152Santiago de Compostela\n",
      "15xCoruña\n",
      "160Cuenca\n",
      "16xCuenca\n",
      "170Girona\n",
      "17xGirona\n",
      "180Granada\n",
      "18xGranada\n",
      "190Guadalajara\n",
      "19xGuadalajara\n",
      "200Donostia - San Sebastian\n",
      "201Irún\n",
      "20xGipuzkoa\n",
      "210Huelva\n",
      "21xHuelva\n",
      "220Huesca\n",
      "22xHuesca\n",
      "230Jaén\n",
      "23xJaén\n",
      "240León\n",
      "241Ponferrada\n",
      "24xLeón\n",
      "250Lleida\n",
      "25xLleida\n",
      "260Logroño\n",
      "26xLa Rioja\n",
      "270Lugo\n",
      "27xLugo\n",
      "280Madrid\n",
      "281Alcalá de Henares\n",
      "282Alcorcón\n",
      "283Getafe\n",
      "284Leganés\n",
      "285Móstoles\n",
      "286Pozuelo de Alarcón\n",
      "287Fuenlabrada\n",
      "288Alcobendas y La Moraleja\n",
      "289Las Rozas de Madrid       \n",
      "28aCoslada                   \n",
      "28bSan Sebastián de los Reyes\n",
      "28cMajadahonda               \n",
      "28dRivas-Vaciamadrid         \n",
      "28eParla                     \n",
      "28fValdemoro                 \n",
      "28xMadrid\n",
      "290Málaga\n",
      "291Marbella\n",
      "292Mijas\n",
      "29xMálaga\n",
      "300Murcia\n",
      "301Cartagena\n",
      "30xMurcia\n",
      "310Pamplona-Iruña\n",
      "31xNavarra\n",
      "320Ourense\n",
      "32xOurense\n",
      "330Oviedo\n",
      "331Gijón\n",
      "332Avilés\n",
      "33xAsturias\n",
      "340Palencia\n",
      "34xPalencia\n",
      "350Palmas de Gran Canaria,Las\n",
      "351Telde\n",
      "35xLas Palmas\n",
      "360Pontevedra\n",
      "361Vigo\n",
      "36xPontevedra\n",
      "370Salamanca\n",
      "37xSalamanca\n",
      "380Santa Cruz de Tenerife\n",
      "381San Cristobal de la Laguna\n",
      "38xSanta Cruz de Tenerife\n",
      "390Santander\n",
      "39xCantabria\n",
      "400Segovia\n",
      "40xSegovia\n",
      "410Sevilla\n",
      "411Dos Hermanas\n",
      "41xSevilla\n",
      "420Soria\n",
      "42xSoria\n",
      "430Tarragona\n",
      "431Reus\n",
      "43xTarragona\n",
      "440Teruel\n",
      "44xTeruel\n",
      "450Toledo\n",
      "45xToledo\n",
      "460Valencia\n",
      "461Gandía\n",
      "46xValencia\n",
      "470Valladolid\n",
      "47xValladolid\n",
      "480Bilbao\n",
      "481Barakaldo\n",
      "484Getxo (inc. Las Arenas y Algorta)\n",
      "48xBizkaia\n",
      "490Zamora\n",
      "49xZamora\n",
      "500Zaragoza\n",
      "50xZaragoza\n",
      "510Ceuta\n",
      "51xCeuta\n",
      "520Melilla\n",
      "52xMelilla\n",
      "ADxAndorra\n"
     ]
    }
   ],
   "source": [
    "import os\n",
    "os.getcwd()\n",
    "os.listdir()\n",
    "\n",
    "f_prov = open(\"codciu.txt\", \"r\",encoding=\"utf-8\")\n",
    "reg = f_prov.readline()\n",
    "while reg:\n",
    "    print(reg, end=\"\")\n",
    "    reg = f_prov.readline()\n",
    "f_prov.close() \n",
    "provincia={}\n"
   ]
  },
  {
   "cell_type": "markdown",
   "metadata": {},
   "source": [
    "**12. Acabas de comenzar a trabajar en el INE, y tu primera labor es recopilar la información que te proporcionan distintas autoridades locales para presentársela a tu jefe. La Agrupación de Municipios de España te ha proporcionado una lista de códigos postales y las poblaciones a las que pertenecen, aunque no te aseguran que esté actualizada y pueden faltar códigos postales. La Policía Nacional te ha proporcionado una lista de la cantidad de robos que se han producido en distintas poblaciones, asociados también a códigos postales. Si no se han producido robos, el código postal no aparece. La Guardia Civil te ha proporcionado una lista con la cantidad de incautaciones de drogas junto con el nombre de la población en el que se han producido. La Federación de Policías Municipales de España te ha enviado una lista con el número de infracciones que se han sancionado agrupadas también por poblaciones, y la Coordinadora de Cuerpos de Bomberos Nacional ha proporcionado el número de incendios sofocados, agrupados por código postal. Sabiendo que no todas las poblaciones y códigos postales tienen por qué aparecer en cada uno de los ficheros, escribe un programa que lea toda esta información, la agrupe de la manera más conveniente y la presente de manera ordenada.**  \n",
    "Antes de comenzar a resolver el ejercicio, puedes hacerte pequeños programas que te generen la información que necesitas para probar el ejercicio."
   ]
  },
  {
   "cell_type": "code",
   "execution_count": null,
   "metadata": {},
   "outputs": [],
   "source": []
  },
  {
   "cell_type": "markdown",
   "metadata": {},
   "source": [
    "**13. Nuestra ciudad cuenta con un sistema de semáforos equipados con radares que, cuando un coche se los salta en rojo, anotan la matrícula del coche, la fecha, la hora y el identificador del semáforo en el que se produjo la infracción. Escribe un programa que lea un fichero con esa información y la introduzca en un diccionario. Después debe leer una matrícula y devolver una lista de las infracciones cometidas por ese vehículo, ordenada por fecha y hora. A continuación, debe leer un identificador de semáforo y devolver todas las infracciones que ha registrado ordenadas por matrícula**  \n",
    "Al igual que en el ejercicio anterior, puedes escribir pequeños programas que te ayuden a generar los ficheros con la información que necesitas"
   ]
  },
  {
   "cell_type": "code",
   "execution_count": null,
   "metadata": {},
   "outputs": [],
   "source": []
  }
 ],
 "metadata": {
  "kernelspec": {
   "display_name": "Python 3",
   "language": "python",
   "name": "python3"
  },
  "language_info": {
   "codemirror_mode": {
    "name": "ipython",
    "version": 3
   },
   "file_extension": ".py",
   "mimetype": "text/x-python",
   "name": "python",
   "nbconvert_exporter": "python",
   "pygments_lexer": "ipython3",
   "version": "3.8.3"
  }
 },
 "nbformat": 4,
 "nbformat_minor": 4
}
