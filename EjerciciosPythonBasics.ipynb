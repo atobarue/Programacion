{
 "cells": [
  {
   "cell_type": "markdown",
   "metadata": {},
   "source": [
    "**Nombre:**ALBERTO\n",
    "\n",
    "**Apellidos:**TOBARUELA DELGADO\n",
    "\n",
    "**DNI/NIE:**05352342N"
   ]
  },
  {
   "cell_type": "markdown",
   "metadata": {},
   "source": [
    "_**Nota:** para hacer todos estos ejercicios puedes consultar los apuntes de la asignatura y todas las páginas de ayuda sugeridas en ellos_"
   ]
  },
  {
   "cell_type": "markdown",
   "metadata": {},
   "source": [
    "**1. Escribe un programa que pida el alto y el ancho (en metros) de una parcela rectangular y calcule su perímetro y su área. Si esta última es mayor de una hectárea, deberá expresarse la medida en esta unidad en lugar de en $m^2$**"
   ]
  },
  {
   "cell_type": "code",
   "execution_count": null,
   "metadata": {},
   "outputs": [],
   "source": [
    "largo=eval(input(\"Introduzca la largo de la parcela: \"))\n",
    "ancho=eval(input(\"Introduzca la ancho de la parcela: \"))\n",
    "print(\"El perímetro de la parcela es: \", round(2*(largo+ancho),2))\n",
    "print(\"El área de la parcela es: \",round(largo*ancho,2))"
   ]
  },
  {
   "cell_type": "markdown",
   "metadata": {},
   "source": [
    "**2. Escribe un programa que lea los coeficientes y calule la solución de una ecuación de segundo grado de la forma $ax^2+bx+c=0$**"
   ]
  },
  {
   "cell_type": "code",
   "execution_count": null,
   "metadata": {},
   "outputs": [],
   "source": [
    "import math\n",
    "a=eval(input(\"Introduzca el coeficiente cuadrático de la ecuación\"))\n",
    "b=eval(input(\"Introduzca el coeficiente lineal de la ecuación\"))\n",
    "c=eval(input(\"Introduzca el término independiente de la ecuación\"))\n",
    "print(\"Las soluciones son: \", end=\" \")\n",
    "if b**2-4*a*c < 0:   # discriminante < 0 no tiene soluciones reales\n",
    "    print (\"x1 y x2 no son números reales\")\n",
    "else:\n",
    "    print(\"x1=\",round((-b+math.sqrt(b**2-4*a*c))/(2*a) ,2), end=\" \")\n",
    "    print(\" y x2=\",round((-b-math.sqrt(b**2-4*a*c))/(2*a) ,2))"
   ]
  },
  {
   "cell_type": "markdown",
   "metadata": {},
   "source": [
    "**3. Escribe un programa que lea una cadena de texto y cuente cuántos caracteres no son letras**"
   ]
  },
  {
   "cell_type": "code",
   "execution_count": null,
   "metadata": {},
   "outputs": [],
   "source": [
    "cadena=input(\"Introduca un texto: \")\n",
    "i=0\n",
    "cuenta=0\n",
    "while i < len(cadena):\n",
    "    if not cadena[i].isalpha(): # si el item no es alfabético suma 1 al contador\n",
    "        cuenta +=1\n",
    "    i +=1\n",
    "print(\"\\n El texto:\", str('\"'+cadena+'\"'), \"tiene \", cuenta, \"caracteres que no son letras\" )\n"
   ]
  },
  {
   "cell_type": "markdown",
   "metadata": {},
   "source": [
    "**4. Escribe un programa que lea una cadena de texto y le quite todos los caracteres que no sean letras**"
   ]
  },
  {
   "cell_type": "code",
   "execution_count": null,
   "metadata": {},
   "outputs": [],
   "source": [
    "cadena=input(\"Introduca un texto: \")\n",
    "i=0\n",
    "cuenta=0     # contador de caracteres eliminados\n",
    "sinletras=\"\"\n",
    "while i < len(cadena):\n",
    "    if cadena[i].isalpha():\n",
    "        sinletras=sinletras+cadena[i]  # si es letra lo incluye en la nueva cadena\n",
    "    else:\n",
    "        cuenta +=1    # si no es letra suma 1 al contador\n",
    "    i +=1\n",
    "print(\"\\n Total caracteres eliminados:\", cuenta)\n",
    "print(\"\\n El texto sin caracteres distintos de letras es:\", str('\"'+sinletras+'\"') )"
   ]
  },
  {
   "cell_type": "markdown",
   "metadata": {},
   "source": [
    "**5. Escribe un programa que lea una cadena de texto y diga si es un palíndromo**"
   ]
  },
  {
   "cell_type": "code",
   "execution_count": null,
   "metadata": {},
   "outputs": [],
   "source": [
    "# Palabra o expresión que es igual si se lee de izquierda a derecha que de derecha a izquierda\n",
    "cadena1=input(\"Introduca un texto: \")\n",
    "cadena2=\"\"  # cadena donde invertimos el orden de los caractes de la cadena 1\n",
    "i=len(cadena1)-1\n",
    "while i >= 0:\n",
    "    cadena2=cadena2+cadena1[i]\n",
    "    i=i-1   \n",
    "# print(cadena1)\n",
    "# print(cadena2)\n",
    "if cadena1==cadena2:\n",
    "    print(\"Es un palíndromo\")\n",
    "else:\n",
    "    print(\"No es un palíndromo\")\n"
   ]
  },
  {
   "cell_type": "markdown",
   "metadata": {},
   "source": [
    "**6. Escribe un programa que lea una frase, la separe en palabras e imprima las palabras por orden de longitud. Las palabras de la misma longitud deberán imprimirse por orden lexicográfico**"
   ]
  },
  {
   "cell_type": "code",
   "execution_count": null,
   "metadata": {},
   "outputs": [],
   "source": []
  },
  {
   "cell_type": "code",
   "execution_count": null,
   "metadata": {},
   "outputs": [],
   "source": [
    "frase=input(\"Introduca un texto: \")\n",
    "i=0\n",
    "c_palabras=0    # contador de palabras. No es necesario\n",
    "lista_palabras=[] # lista donde se guardarán las palabras de la frase (incluye números)\n",
    "lista_l=[]\n",
    "while i < len(frase):\n",
    "    if frase[i].isalnum(): # Si es una letra o un dígito numérico es una palabra nueva\n",
    "        palabra=\"\"\n",
    "        c_palabras = c_palabras + 1 \n",
    "#        print(\"c_palabras:\",c_palabras)\n",
    "        j=0\n",
    "        while  i < len(frase):\n",
    "            if frase[i].isalnum():    # si el caracter de la frase es alfanumerico lo añade a la palabra texto al\n",
    "                palabra = palabra + frase[i]\n",
    "                i = i + 1\n",
    "                j = j + 1\n",
    "            else:\n",
    "                break\n",
    "        print(palabra, j)\n",
    "        lista_palabras.append(palabra) # añade la palabra a la lista de palabras\n",
    "        lista_l.append(j)\n",
    "    else:\n",
    "       i = i + 1\n",
    "\n",
    "print(lista_palabras)\n",
    "print(lista_l)\n",
    "lista_pall=[]\n",
    "i=0\n",
    "while i < c_palabras:\n",
    "    pal_l=(lista_l [i],lista_palabras[i])\n",
    "    lista_pall.append(pal_l)\n",
    "    i = i+1\n",
    "print(lista_pall)\n",
    "#sorted(lista_pall, key=lambda lista_pall: lista_pall[0])\n",
    "print(sorted(lista_pall))\n",
    "for palabra in sorted(lista_pall):\n",
    "    print (palabra[1],palabra[0])\n"
   ]
  },
  {
   "cell_type": "markdown",
   "metadata": {},
   "source": [
    "**7. Las matrículas actuales de los coches en España están compuestas por cuatro dígitos y tres consonantes. Escribe un programa que lea una matrícula, una letra y un número y nos diga si**\n",
    "  * **La matrícula contiene ese dígito**\n",
    "  * **Las letras de la matrícula comienzan con la letra dada**\n",
    "  * **Ambas cosas**\n",
    "  * **Ninguna de las dos cosas**"
   ]
  },
  {
   "cell_type": "code",
   "execution_count": null,
   "metadata": {},
   "outputs": [],
   "source": [
    "matricula=input(\"Introduzca matrícula, 4 numeros y tres letras,sin espacio entre ellos:\")\n",
    "numero=input(\"Introduzca numero a buscar\")\n",
    "letra=input(\"Introduzca letra a buscar:\")\n",
    "\n",
    "matricula=matricula.upper()\n",
    "letra=letra.upper()\n",
    "\n",
    "if numero in matricula:\n",
    "    print(\"La matrícula contiene el dígito\", numero)\n",
    "if matricula[4]== letra:\n",
    "    print(\"La primera letra de la matrícula es\", letra)\n",
    "if numero in matricula and matricula[4] == letra:\n",
    "    print(\"Ambas cosas\")\n",
    "if not (numero in matricula) and not (matricula[4] == letra):\n",
    "    print(\"Ninguna de las dos cosas\")\n"
   ]
  },
  {
   "cell_type": "markdown",
   "metadata": {},
   "source": [
    "**8. Dada una lista de matrículas, un dígito y una letra, escribe un programa que nos diga cuántas matrículas cumplen cada una de las condiciones anteriores**"
   ]
  },
  {
   "cell_type": "code",
   "execution_count": null,
   "metadata": {},
   "outputs": [],
   "source": [
    "lista=(\"1234ABC\",\"1111HIJ\",\"3245CDF\",\"6823EGR\")\n",
    "letra=input(\"Introduzca letra a buscar:\")\n",
    "letra=letra.upper()\n",
    "numero=input(\"Introduzca numero a buscar\")\n",
    "c1=c2=c3=c4=0\n",
    "for matricula in lista:\n",
    "    if numero in matricula:\n",
    "        c1 = c1 + 1 # print(\"La matrícula contiene ese dígito\")\n",
    "    if matricula[4]== letra:\n",
    "        c2 = c2 +1 # print(\"Las letras de la matrícula comienzan con la letra dada\")\n",
    "    if numero in matricula and matricula[4] == letra:\n",
    "        c3 = c3 + 1 # print(\"Ambas cosas\")# \n",
    "    if not (numero in matricula) and not (matricula[4] == letra):\n",
    "        c4 = c4 + 1 # print(\"Ninguna de las dos cosas\")\n",
    "print(lista)\n",
    "print(c1, \" matrículas contienen el dígito \", numero)\n",
    "print(c2, \" matrículas empiezan por la letra \", letra)\n",
    "print(c3, \" matrículas cumplen ambas cosas\")\n",
    "print(c4, \" matrículas no cumplen ninguna de las dos cosas\")"
   ]
  },
  {
   "cell_type": "markdown",
   "metadata": {},
   "source": [
    "**9. En https://www.dieselogasolina.com/tabla-matriculas-por-anos.html puedes encontrar una tabla con las últimas letras asignadas cada mes desde el año 2000 para matricular coches. Escribe un programa que reciba la matrícula completa de un coche y devuelva el mes y el año en el que fue matriculado**"
   ]
  },
  {
   "cell_type": "code",
   "execution_count": null,
   "metadata": {},
   "outputs": [],
   "source": [
    "matr=input(\"Introduzca matrícula, 4 numeros y tres letras,sin espacio entre ellos:\")\n",
    "if not matr[4:6].isalpha() or not matr[0:3].isdigit():\n",
    "    print(matr,\"matrícula errónea\")\n",
    "else:\n",
    "    matr=matr.upper()\n",
    "    print(matr)\n",
    "    f_matr = open(\"matriculas.csv\", \"r\")\n",
    "    linea = f_matr.readline().strip()  #### linea de cabeceras .strip() para quitar el fin de linea\n",
    "    ### Hacemos un diccionario con clave las 3 letras de la matricula y  valor el año-mes\n",
    "    tabla={}\n",
    "    linea = f_matr.readline().strip()\n",
    "    while linea:\n",
    "        lista=linea.split(\";\")\n",
    "        aa=lista[0]\n",
    "        for i in range(1,13):\n",
    "            mm=str(i)\n",
    "            if len(mm)==1:\n",
    "                mm=\"0\"+mm\n",
    "            if not lista[i]==\"---\":\n",
    "                tabla[lista[i]]=aa+mm\n",
    "        linea = f_matr.readline().strip()\n",
    "    f_matr.close()   ### Cerrar fichero\n",
    "\n",
    "    k_ant=\"---\"\n",
    "    aamm_ant=\"200008\"\n",
    "    for k in sorted(tabla):\n",
    "        if matr[4:] > k:\n",
    "            k_ant=k\n",
    "            aamm_ant=tabla[k]\n",
    "        else:\n",
    "            break\n",
    "    print (k,tabla[k])\n",
    "    print (k_ant, aamm_ant)\n",
    "    if matr[4:] > k:\n",
    "        print(\"Matrícula no asignada\")\n",
    "    elif matr[4:] > k_ant:\n",
    "        print (\"Año mes de matriculación:\",tabla[k])\n",
    "    else:\n",
    "        print (\"Año mes de matriculación:\",aamm_ant)\n",
    "\n",
    "#### Mejor opción hacerlo poniendo los grupos de letras en una lista  \n",
    "### o como una lista de años donde cada una tiene doce elementos  \n",
    "### No aprovechamos la función del diccionario que es buscar por clave\n"
   ]
  },
  {
   "cell_type": "markdown",
   "metadata": {},
   "source": [
    "**10. El índice $r$ de contagio del coronavirus mide el número medio de contagios que causa cada persona infectada. Si $r=3$ y el primer día de la epidemia hay una persona contagiada, esa persona contagiará a 3, por lo que el segundo día habrá 4 personas contagiadas. Esas tres nuevas personas contagiadas contagiarán a otras 3 cada una, por lo que habrá 9 nuevos contagiados, haciendo un total de 13 personas contagiadas. Escribe un programa que pida el número inicial de contagiados $i$, el valor del índice medio de contagios $r$ y un número $n$ de días y escriba por pantalla la evolución en el número de contagiados durante los primeros $n$ días de pandemia. Para cada día debe imprimir el número de nuevos contagios y el número de contagios acumulados**"
   ]
  },
  {
   "cell_type": "code",
   "execution_count": null,
   "metadata": {},
   "outputs": [],
   "source": [
    "### El problema planteado es hallar la suma de los términos de una progrsión geometrica\n",
    "### donde i el numero de contagios inicial es el primer término a1,\n",
    "### la razón es el ratio r\n",
    "### y el numero de días es el número de terminos n\n",
    "### La fórmula para calcular el nº de contagios al cabo de n días es: S = (an*r -1)/(r-1)\n",
    "### termino 1 a1=i ; término n  an=a1*r**(n-1) ; suma de n t´erminos  Sn=(an.r a1)/(r-1)\n",
    "i=eval(input(\"Introduzca el número inicial de contagiados1: \"))\n",
    "r=eval(input(\"Introduzca el valor del índice medio de contagios:\"))\n",
    "n=eval(input(\"Introduzca el nº de días:\"))\n",
    "a1=i\n",
    "j=1\n",
    "while j <= n:\n",
    "    an=a1*r**(j-1)\n",
    "    if r==1:\n",
    "        print(\"Día número \", j, \"Número total contagiados \", a1)\n",
    "    else:\n",
    "        print(\"Día número \", j, \"Número total contagiados \", round((an*r - a1)/(r-1)))\n",
    "    j=j+1\n"
   ]
  },
  {
   "cell_type": "markdown",
   "metadata": {},
   "source": [
    "**11. Puedes obtener una lista de códigos postales de (https://www.codigospostales.com/descarga.html). En el fichero .zip que te puedes descargar de ahí puedes obtener los códigos postales de todas las poblaciones de España, pero están estructurados de una forma un poco particular, aunque sencilla de procesar automáticamente. El objetivo último del ejercicio es obtener un fichero con un listado de todos los códigos postales de España asociados a su provincia y población, ordenados por código postal. Cada línea deberá tener el formato**  \n",
    "    *CódigoPostal Provincia Poblaciones*  \n",
    "Indicaciones para resolver el ejercicio:\n",
    "* Abre el fichero codciu.txt. En cada línea de ese fichero puedes encontrar un código compuesto por tres números o dos números y una letra, seguidos del nombre de una población o provincia.\n",
    "* Para cada línea, debes separar los tres primeros caracteres de los demás, y después\n",
    "  + Si de esos tres primeros caracteres hay dos números y una x (NNx), quiere decir que el fichero asociado contiene información de poblaciones pequeñas de la provincia. Procesa los ficheros de nombre NNxcodpos.txt y extrae los códigos postales y las poblaciones asociadas a cada código postal (puede haber varias)\n",
    "  + Si de esos tres primeros caracteres hay tres números (NNN) o dos números y una letra que no sea x (p.e. NNa), quiere decir que el fichero asociado contiene los códigos postales de poblaciones grandes, con más de un código postal. En este caso, la información aparece desglosada por todas las calles que tienen cada uno de los códigos postales, con lo que cada código postal aparece multitud de veces. Descartando la información de las calles, recopila todos los códigos postales distintos que haya en esos ficheros y asócialos a la ciudad y provincia corresondientes"
   ]
  },
  {
   "cell_type": "code",
   "execution_count": 6,
   "metadata": {},
   "outputs": [],
   "source": [
    "import os\n",
    "ficheros=os.listdir(path=\"cdpostales1218\")\n",
    "ruta=os.getcwd()\n",
    "ruta=ruta.replace('\\\\', '\\\\\\\\')+'\\\\\\\\'+'cdpostales1218\\\\\\\\'  ### preparo ruta \n",
    "### print(ruta)\n",
    "                 \n",
    "### Hago dos diccionarios:\n",
    "d_prov={}   ### diccionario de provincias\n",
    "d_codciu={} ### diccionario de poblacioness\n",
    "\n",
    "f_prov = open(\"codciu.txt\", \"r\",encoding=\"utf-8\")   ### Abro fichero codciu.txt\n",
    "reg = f_prov.readline().strip()\n",
    "while reg:\n",
    "    d_codciu[reg[0:3]]=reg[3:]\n",
    "    if reg[2]==\"x\":\n",
    "        d_prov[reg[0:2]]=reg[3:]\n",
    "    reg = f_prov.readline().strip()\n",
    "f_prov.close() \n",
    "\n",
    "### print (len(ficheros))\n",
    "\n",
    "lista_cp=[] #### Lista de listas:  códigos postales;provincia;población\n",
    "for ff in ficheros:\n",
    "    nombre=ruta+ff                 ### compongo el nombre del fichero\n",
    "    ### print(nombre)\n",
    "    if (ff[3:]==\"codpos.txt\"):     ### solo trato ficheros de codigos postales\n",
    "        fcd= open (nombre, \"r\",encoding=\"utf-8\")\n",
    "        prov=d_prov[ff[0:2]]\n",
    "        ciu=d_codciu[ff[0:3]]\n",
    "        reg = fcd.readline().strip()\n",
    "        while reg:                  ### para cada tipo de fichero tratamiento diferente\n",
    "            elemento=[]\n",
    "            if ff[2]== 'x':   ### si es de poblaciones pequeñas cargo en la lista todos los codigos postales que no son NN000\n",
    "                if not (reg[2:5]== \"000\"):\n",
    "                    elemento=(reg[0:5], prov, reg[6:])  \n",
    "                    lista_cp.append(elemento)\n",
    "            else:              ### si es de ciudades importantes (calles) solo cargo el primero de los CP\n",
    "                if (reg[0:5],prov,ciu) not in lista_cp:\n",
    "                    elemento=(reg[0:5], prov, ciu)\n",
    "                    lista_cp.append(elemento)\n",
    "            reg = fcd.readline().strip()\n",
    "        fcd.close()\n",
    "\n",
    "###       Ordeno la lista de codigos postales y ordenada, la grabo en fichero, para no imprimir miles de lineas\n",
    "#print(len(lista_cp))\n",
    "from operator import itemgetter\n",
    "lista_cp_ord=sorted(lista_cp, key=itemgetter(0)) ### ordeno por código postal\n",
    "fcdsort= open (\"fcdsort.txt\", \"w\")\n",
    "fcdsort.write(\"CDPOS\" + \";\"+ \"PROVINCIA\"+ \";\" + \"POBLACION\"+\"\\n\")   # primer registro de cabeceras\n",
    "for elemento in lista_cp_ord:\n",
    "    cdpos=str(elemento[0])\n",
    "    prov=str(elemento[1])\n",
    "    poblacion=str(elemento[2])\n",
    "    registro=cdpos + \";\" + prov + \";\" + poblacion\n",
    "    fcdsort.write(registro + \"\\n\")\n",
    "#    print(elemento)\n",
    "fcdsort.close()\n"
   ]
  },
  {
   "cell_type": "markdown",
   "metadata": {},
   "source": [
    "**12. Acabas de comenzar a trabajar en el INE, y tu primera labor es recopilar la información que te proporcionan distintas autoridades locales para presentársela a tu jefe. La Agrupación de Municipios de España te ha proporcionado una lista de códigos postales y las poblaciones a las que pertenecen, aunque no te aseguran que esté actualizada y pueden faltar códigos postales. La Policía Nacional te ha proporcionado una lista de la cantidad de robos que se han producido en distintas poblaciones, asociados también a códigos postales. Si no se han producido robos, el código postal no aparece. La Guardia Civil te ha proporcionado una lista con la cantidad de incautaciones de drogas junto con el nombre de la población en el que se han producido. La Federación de Policías Municipales de España te ha enviado una lista con el número de infracciones que se han sancionado agrupadas también por poblaciones, y la Coordinadora de Cuerpos de Bomberos Nacional ha proporcionado el número de incendios sofocados, agrupados por código postal. Sabiendo que no todas las poblaciones y códigos postales tienen por qué aparecer en cada uno de los ficheros, escribe un programa que lea toda esta información, la agrupe de la manera más conveniente y la presente de manera ordenada.**  \n",
    "Antes de comenzar a resolver el ejercicio, puedes hacerte pequeños programas que te generen la información que necesitas para probar el ejercicio."
   ]
  },
  {
   "cell_type": "code",
   "execution_count": null,
   "metadata": {},
   "outputs": [],
   "source": []
  },
  {
   "cell_type": "markdown",
   "metadata": {},
   "source": [
    "**13. Nuestra ciudad cuenta con un sistema de semáforos equipados con radares que, cuando un coche se los salta en rojo, anotan la matrícula del coche, la fecha, la hora y el identificador del semáforo en el que se produjo la infracción. Escribe un programa que lea un fichero con esa información y la introduzca en un diccionario. Después debe leer una matrícula y devolver una lista de las infracciones cometidas por ese vehículo, ordenada por fecha y hora. A continuación, debe leer un identificador de semáforo y devolver todas las infracciones que ha registrado ordenadas por matrícula**  \n",
    "Al igual que en el ejercicio anterior, puedes escribir pequeños programas que te ayuden a generar los ficheros con la información que necesitas"
   ]
  },
  {
   "cell_type": "code",
   "execution_count": null,
   "metadata": {},
   "outputs": [],
   "source": []
  },
  {
   "cell_type": "code",
   "execution_count": null,
   "metadata": {},
   "outputs": [],
   "source": [
    "### matricula (7 caracters), fecha (10 caracteres), hora(8 caracters) e id semáforo (6 caracteres)\n",
    "### Lectura del fichero y carga en diccionario\n",
    "def cargar_infracciones():\n",
    "    d_mat={}\n",
    "    fichero = open(\"SEMAFOROS.csv\", \"r\")\n",
    "    linea = fichero.readline().strip() #### lee registro cabecera\n",
    "    linea = fichero.readline().strip()  #### lee primer registro \n",
    "    while linea:\n",
    "    ###    print(linea, end=\"\")\n",
    "        matr=linea[0:7]\n",
    "        fech=linea[8:18]\n",
    "        hora=linea[19:27]\n",
    "        sema=linea[28:]\n",
    "        clave=matr+fech+hora\n",
    "#        print(clave, sema)\n",
    "        d_mat[clave]=sema\n",
    "        linea = fichero.readline().strip()\n",
    "    fichero.close()        # Cerrar fichero\n",
    "\n",
    "cargar_infracciones()"
   ]
  },
  {
   "cell_type": "code",
   "execution_count": null,
   "metadata": {},
   "outputs": [],
   "source": [
    "### Lectura del fichero y carga en diccionario\n",
    "def cargar_infracciones():\n",
    "    d_mat={}\n",
    "    fichero = open(\"SEMAFOROS.csv\", \"r\")\n",
    "    linea = fichero.readline().strip() #### lee registro cabecera\n",
    "    linea = fichero.readline().strip()  #### lee primer registro \n",
    "    while linea:\n",
    "    ###    print(linea, end=\"\")\n",
    "        matr=linea[0:7]\n",
    "        fech=linea[8:18]\n",
    "        hora=linea[19:27]\n",
    "        sema=linea[28:]\n",
    "        clave=matr+fech+hora\n",
    "#        print(clave, sema)\n",
    "        d_mat[clave]=sema\n",
    "        linea = fichero.readline().strip()\n",
    "    fichero.close()        # Cerrar fichero\n",
    "\n",
    "def leer_matricula (m):\n",
    "    matricula=input(\"Introduzca la matrícula:\")\n",
    "    print()\n",
    "    while not (matricula.isalnum() and len(matricula)==7):\n",
    "        matricula=input(\"Matrícula errónea. Introduzca la matrícula:\")\n",
    "    matricula=matricula.upper()\n",
    "\n",
    "### hace una lista de ifracciones de una matricula ordenada por fecha y hora\n",
    "def buscar_matricula (matricula):\n",
    "    lista=[]\n",
    "    for clave in d_mat:\n",
    "    #    print (clave,d_mat[clave])\n",
    "        if clave[0:7] == matricula:\n",
    "    #        print(clave,d_mat[clave])\n",
    "            mat=str(clave[0:7])\n",
    "            fec=str(clave[7:17])\n",
    "            hor=str(clave[17:])\n",
    "            fechor=str(clave[7:])\n",
    "            idsem=str(d_mat[clave])\n",
    "    #        print(mat,fechor,idsem)\n",
    "            elemento=(mat,fechor,idsem)\n",
    "            lista.append(elemento)\n",
    "    from operator import itemgetter\n",
    "    lista_ord=sorted(lista, key=itemgetter(0))\n",
    "\n",
    "\n",
    "### Listado de infracciones de una matrícula\n",
    "def listar_infraciones():\n",
    "    from operator import itemgetter\n",
    "    lista_ord=sorted(lista, key=itemgetter(0))\n",
    "    print(\"Lista de infracciones de la matrícula:\", mat, end = '\\n\\n ')\n",
    "    print(\"  FECHA        HORA    SEMAFORO_ID\")\n",
    "    for e in lista:\n",
    "        fechor=e[1]\n",
    "        fec=fechor[0:10]\n",
    "        hor=fechor[10:]\n",
    "        print(fec,\" \", hor , \"   \", e[2])\n",
    "        \n",
    "### LISTADO DE INFRACCIONES DE UNA MATRICULA\n",
    "cargar_infracciones()\n",
    "leer_matricula (matricula)\n",
    "buscar_matricula (matricula)\n",
    "listar_infraciones()\n",
    "cargar_infracciones()"
   ]
  },
  {
   "cell_type": "code",
   "execution_count": null,
   "metadata": {},
   "outputs": [],
   "source": [
    "### Lista de infracciones de un semáforo\n",
    "\n",
    "def leer_semaforo (semaforo):\n",
    "    semaforo=input(\"Introduzca el código del semaforo:\")\n",
    "    print()\n",
    "    while not (semaforo.isalnum() and len(semaforo)==6):\n",
    "        semaforo=input(\"Código erróneo. Introduzca el código del semaforo:\")\n",
    "        semaforo=semaforo.upper()\n",
    "\n",
    "\n",
    "cargar_infracciones()\n",
    "leer_semaforo(semaforo)\n",
    "\n",
    "### hace una lista de infracciones de semaforo ordenada por fecha y hora\n",
    "##def buscar_semaforo (semaforo,li):\n",
    "li=[]\n",
    "for clave in d_mat:\n",
    "    idsem=str(d_mat[clave])\n",
    "    if idsem == semaforo:\n",
    "##  #        print(clave,d_mat[clave])\n",
    "        mat=str(clave[0:7])\n",
    "        fec=str(clave[7:17])\n",
    "        hor=str(clave[17:])\n",
    "        fechor=str(clave[7:])\n",
    "        elemento=(idsem, mat, fechor)\n",
    "        li.append(elemento)\n",
    "from operator import itemgetter\n",
    "li=sorted(li, key=itemgetter(1))\n",
    "###print(li)\n",
    "\n",
    "print(\"Lista de infracciones del semáforo:\", semaforo, end = '\\n\\n ')\n",
    "print(\"SEMAFORO_ID MATRICULA     FECHA-HORA\")\n",
    "for i in li:\n",
    "#   print(\"  \", i[0],\"   \",i[1],\" \", i[2])\n",
    "    print(\"   %s     %s   %s\" % (i[0],i[1],i[2]))"
   ]
  }
 ],
 "metadata": {
  "kernelspec": {
   "display_name": "Python 3",
   "language": "python",
   "name": "python3"
  },
  "language_info": {
   "codemirror_mode": {
    "name": "ipython",
    "version": 3
   },
   "file_extension": ".py",
   "mimetype": "text/x-python",
   "name": "python",
   "nbconvert_exporter": "python",
   "pygments_lexer": "ipython3",
   "version": "3.8.3"
  }
 },
 "nbformat": 4,
 "nbformat_minor": 4
}
