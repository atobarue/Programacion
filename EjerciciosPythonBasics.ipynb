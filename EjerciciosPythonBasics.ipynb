{
 "cells": [
  {
   "cell_type": "markdown",
   "metadata": {},
   "source": [
    "**Nombre:**ALBERTO\n",
    "\n",
    "**Apellidos:**TOBARUELA DELGADO\n",
    "\n",
    "**DNI/NIE:**05352342N"
   ]
  },
  {
   "cell_type": "markdown",
   "metadata": {},
   "source": [
    "_**Nota:** para hacer todos estos ejercicios puedes consultar los apuntes de la asignatura y todas las páginas de ayuda sugeridas en ellos_"
   ]
  },
  {
   "cell_type": "markdown",
   "metadata": {},
   "source": [
    "**1. Escribe un programa que pida el alto y el ancho (en metros) de una parcela rectangular y calcule su perímetro y su área. Si esta última es mayor de una hectárea, deberá expresarse la medida en esta unidad en lugar de en $m^2$**"
   ]
  },
  {
   "cell_type": "code",
   "execution_count": 1,
   "metadata": {},
   "outputs": [
    {
     "name": "stdin",
     "output_type": "stream",
     "text": [
      "Introduzca la largo de la parcela:  2\n",
      "Introduzca la ancho de la parcela:  3\n"
     ]
    },
    {
     "name": "stdout",
     "output_type": "stream",
     "text": [
      "El perímetro de la parcela es:  10\n",
      "El área de la parcela es:  6\n"
     ]
    }
   ],
   "source": [
    "largo=eval(input(\"Introduzca la largo de la parcela: \"))\n",
    "ancho=eval(input(\"Introduzca la ancho de la parcela: \"))\n",
    "print(\"El perímetro de la parcela es: \", round(2*(largo+ancho),2))\n",
    "print(\"El área de la parcela es: \",round(largo*ancho,2))"
   ]
  },
  {
   "cell_type": "markdown",
   "metadata": {},
   "source": [
    "**2. Escribe un programa que lea los coeficientes y calule la solución de una ecuación de segundo grado de la forma $ax^2+bx+c=0$**"
   ]
  },
  {
   "cell_type": "code",
   "execution_count": 3,
   "metadata": {},
   "outputs": [
    {
     "name": "stdin",
     "output_type": "stream",
     "text": [
      "Introduzca el coeficiente cuadrático de la ecuación 2\n",
      "Introduzca el coeficiente lineal de la ecuación -7\n",
      "Introduzca el término independiente de la ecuación 3\n"
     ]
    },
    {
     "name": "stdout",
     "output_type": "stream",
     "text": [
      "Las soluciones son:  x1= 3.0  y x2= 0.5\n"
     ]
    }
   ],
   "source": [
    "import math\n",
    "a=eval(input(\"Introduzca el coeficiente cuadrático de la ecuación\"))\n",
    "b=eval(input(\"Introduzca el coeficiente lineal de la ecuación\"))\n",
    "c=eval(input(\"Introduzca el término independiente de la ecuación\"))\n",
    "print(\"Las soluciones son: \", end=\" \")\n",
    "if b**2-4*a*c < 0:   # discriminante < 0 no tiene soluciones reales\n",
    "    print (\"x1 y x2 no son números reales\")\n",
    "else:\n",
    "    print(\"x1=\",round((-b+math.sqrt(b**2-4*a*c))/(2*a) ,2), end=\" \")\n",
    "    print(\" y x2=\",round((-b-math.sqrt(b**2-4*a*c))/(2*a) ,2))"
   ]
  },
  {
   "cell_type": "markdown",
   "metadata": {},
   "source": [
    "**3. Escribe un programa que lea una cadena de texto y cuente cuántos caracteres no son letras**"
   ]
  },
  {
   "cell_type": "code",
   "execution_count": 39,
   "metadata": {},
   "outputs": [
    {
     "name": "stdin",
     "output_type": "stream",
     "text": [
      "Introduca un texto:   a e$ a\n"
     ]
    },
    {
     "name": "stdout",
     "output_type": "stream",
     "text": [
      "\n",
      " El texto: \" a e$ a\" tiene  4 caracteres que no son letras\n"
     ]
    }
   ],
   "source": [
    "cadena=input(\"Introduca un texto: \")\n",
    "i=0\n",
    "cuenta=0\n",
    "while i < len(cadena):\n",
    "    if not cadena[i].isalpha(): # si el item no es alfabético suma 1 al contador\n",
    "        cuenta +=1\n",
    "    i +=1\n",
    "print(\"\\n El texto:\", str('\"'+cadena+'\"'), \"tiene \", cuenta, \"caracteres que no son letras\" )\n"
   ]
  },
  {
   "cell_type": "markdown",
   "metadata": {},
   "source": [
    "**4. Escribe un programa que lea una cadena de texto y le quite todos los caracteres que no sean letras**"
   ]
  },
  {
   "cell_type": "code",
   "execution_count": 52,
   "metadata": {},
   "outputs": [
    {
     "name": "stdin",
     "output_type": "stream",
     "text": [
      "Introduca un texto:  a1234e\n"
     ]
    },
    {
     "name": "stdout",
     "output_type": "stream",
     "text": [
      "\n",
      " Total caracteres eliminados: 4\n",
      "\n",
      " El texto sin caracteres distintos de letras es: \"ae\"\n"
     ]
    }
   ],
   "source": [
    "cadena=input(\"Introduca un texto: \")\n",
    "i=0\n",
    "cuenta=0     # contador de caracteres eliminados\n",
    "sinletras=\"\"\n",
    "while i < len(cadena):\n",
    "    if cadena[i].isalpha():\n",
    "        sinletras=sinletras+cadena[i]  # si es letra lo incluye en la nueva cadena\n",
    "    else:\n",
    "        cuenta +=1    # si no es letra suma 1 al contador\n",
    "    i +=1\n",
    "print(\"\\n Total caracteres eliminados:\", cuenta)\n",
    "print(\"\\n El texto sin caracteres distintos de letras es:\", str('\"'+sinletras+'\"') )"
   ]
  },
  {
   "cell_type": "markdown",
   "metadata": {},
   "source": [
    "**5. Escribe un programa que lea una cadena de texto y diga si es un palíndromo**"
   ]
  },
  {
   "cell_type": "code",
   "execution_count": 1,
   "metadata": {},
   "outputs": [
    {
     "name": "stdin",
     "output_type": "stream",
     "text": [
      "Introduca un texto:  12321\n"
     ]
    },
    {
     "name": "stdout",
     "output_type": "stream",
     "text": [
      "Es un palíndromo\n"
     ]
    }
   ],
   "source": [
    "# Palabra o expresión que es igual si se lee de izquierda a derecha que de derecha a izquierda\n",
    "cadena1=input(\"Introduca un texto: \")\n",
    "cadena2=\"\"  # cadena donde invertimos el orden de los caractes de la cadena 1\n",
    "i=len(cadena1)-1\n",
    "while i >= 0:\n",
    "    cadena2=cadena2+cadena1[i]\n",
    "    i=i-1   \n",
    "# print(cadena1)\n",
    "# print(cadena2)\n",
    "if cadena1==cadena2:\n",
    "    print(\"Es un palíndromo\")\n",
    "else:\n",
    "    print(\"No es un palíndromo\")\n"
   ]
  },
  {
   "cell_type": "markdown",
   "metadata": {},
   "source": [
    "**6. Escribe un programa que lea una frase, la separe en palabras e imprima las palabras por orden de longitud. Las palabras de la misma longitud deberán imprimirse por orden lexicográfico**"
   ]
  },
  {
   "cell_type": "code",
   "execution_count": null,
   "metadata": {},
   "outputs": [],
   "source": []
  },
  {
   "cell_type": "code",
   "execution_count": 76,
   "metadata": {},
   "outputs": [
    {
     "name": "stdin",
     "output_type": "stream",
     "text": [
      "Introduca un texto:  bb ba b a aaa\n"
     ]
    },
    {
     "name": "stdout",
     "output_type": "stream",
     "text": [
      "bb 2\n",
      "ba 2\n",
      "b 1\n",
      "a 1\n",
      "aaa 3\n",
      "['bb', 'ba', 'b', 'a', 'aaa']\n",
      "[2, 2, 1, 1, 3]\n",
      "[(2, 'bb'), (2, 'ba'), (1, 'b'), (1, 'a'), (3, 'aaa')]\n",
      "[(1, 'a'), (1, 'b'), (2, 'ba'), (2, 'bb'), (3, 'aaa')]\n",
      "a 1\n",
      "b 1\n",
      "ba 2\n",
      "bb 2\n",
      "aaa 3\n"
     ]
    }
   ],
   "source": [
    "frase=input(\"Introduca un texto: \")\n",
    "i=0\n",
    "c_palabras=0    # contador de palabras. No es necesario\n",
    "lista_palabras=[] # lista donde se guardarán las palabras de la frase (incluye números)\n",
    "lista_l=[]\n",
    "while i < len(frase):\n",
    "    if frase[i].isalnum(): # Si es una letra o un dígito numérico es una palabra nueva\n",
    "        palabra=\"\"\n",
    "        c_palabras = c_palabras + 1 \n",
    "#        print(\"c_palabras:\",c_palabras)\n",
    "        j=0\n",
    "        while  i < len(frase):\n",
    "            if frase[i].isalnum():    # si el caracter de la frase es alfanumerico lo añade a la palabra texto al\n",
    "                palabra = palabra + frase[i]\n",
    "                i = i + 1\n",
    "                j = j + 1\n",
    "            else:\n",
    "                break\n",
    "        print(palabra, j)\n",
    "        lista_palabras.append(palabra) # añade la palabra a la lista de palabras\n",
    "        lista_l.append(j)\n",
    "    else:\n",
    "       i = i + 1\n",
    "\n",
    "print(lista_palabras)\n",
    "print(lista_l)\n",
    "lista_pall=[]\n",
    "i=0\n",
    "while i < c_palabras:\n",
    "    pal_l=(lista_l [i],lista_palabras[i])\n",
    "    lista_pall.append(pal_l)\n",
    "    i = i+1\n",
    "print(lista_pall)\n",
    "#sorted(lista_pall, key=lambda lista_pall: lista_pall[0])\n",
    "print(sorted(lista_pall))\n",
    "for palabra in sorted(lista_pall):\n",
    "    print (palabra[1],palabra[0])\n"
   ]
  },
  {
   "cell_type": "code",
   "execution_count": 50,
   "metadata": {},
   "outputs": [
    {
     "name": "stdout",
     "output_type": "stream",
     "text": [
      "None\n"
     ]
    }
   ],
   "source": []
  },
  {
   "cell_type": "markdown",
   "metadata": {},
   "source": [
    "**7. Las matrículas actuales de los coches en España están compuestas por cuatro dígitos y tres consonantes. Escribe un programa que lea una matrícula, una letra y un número y nos diga si**\n",
    "  * **La matrícula contiene ese dígito**\n",
    "  * **Las letras de la matrícula comienzan con la letra dada**\n",
    "  * **Ambas cosas**\n",
    "  * **Ninguna de las dos cosas**"
   ]
  },
  {
   "cell_type": "code",
   "execution_count": null,
   "metadata": {},
   "outputs": [],
   "source": []
  },
  {
   "cell_type": "markdown",
   "metadata": {},
   "source": [
    "**8. Dada una lista de matrículas, un dígito y una letra, escribe un programa que nos diga cuántas matrículas cumplen cada una de las condiciones anteriores**"
   ]
  },
  {
   "cell_type": "code",
   "execution_count": null,
   "metadata": {},
   "outputs": [],
   "source": []
  },
  {
   "cell_type": "markdown",
   "metadata": {},
   "source": [
    "**9. En https://www.dieselogasolina.com/tabla-matriculas-por-anos.html puedes encontrar una tabla con las últimas letras asignadas cada mes desde el año 2000 para matricular coches. Escribe un programa que reciba la matrícula completa de un coche y devuelva el mes y el año en el que fue matriculado**"
   ]
  },
  {
   "cell_type": "code",
   "execution_count": null,
   "metadata": {},
   "outputs": [],
   "source": []
  },
  {
   "cell_type": "markdown",
   "metadata": {},
   "source": [
    "**10. El índice $r$ de contagio del coronavirus mide el número medio de contagios que causa cada persona infectada. Si $r=3$ y el primer día de la epidemia hay una persona contagiada, esa persona contagiará a 3, por lo que el segundo día habrá 4 personas contagiadas. Esas tres nuevas personas contagiadas contagiarán a otras 3 cada una, por lo que habrá 9 nuevos contagiados, haciendo un total de 13 personas contagiadas. Escribe un programa que pida el número inicial de contagiados $i$, el valor del índice medio de contagios $r$ y un número $n$ de días y escriba por pantalla la evolución en el número de contagiados durante los primeros $n$ días de pandemia. Para cada día debe imprimir el número de nuevos contagios y el número de contagios acumulados**"
   ]
  },
  {
   "cell_type": "code",
   "execution_count": null,
   "metadata": {},
   "outputs": [],
   "source": []
  },
  {
   "cell_type": "markdown",
   "metadata": {},
   "source": [
    "**11. Puedes obtener una lista de códigos postales de (https://www.codigospostales.com/descarga.html). En el fichero .zip que te puedes descargar de ahí puedes obtener los códigos postales de todas las poblaciones de España, pero están estructurados de una forma un poco particular, aunque sencilla de procesar automáticamente. El objetivo último del ejercicio es obtener un fichero con un listado de todos los códigos postales de España asociados a su provincia y población, ordenados por código postal. Cada línea deberá tener el formato**  \n",
    "    *CódigoPostal Provincia Poblaciones*  \n",
    "Indicaciones para resolver el ejercicio:\n",
    "* Abre el fichero codciu.txt. En cada línea de ese fichero puedes encontrar un código compuesto por tres números o dos números y una letra, seguidos del nombre de una población o provincia.\n",
    "* Para cada línea, debes separar los tres primeros caracteres de los demás, y después\n",
    "  + Si de esos tres primeros caracteres hay dos números y una x (NNx), quiere decir que el fichero asociado contiene información de poblaciones pequeñas de la provincia. Procesa los ficheros de nombre NNxcodpos.txt y extrae los códigos postales y las poblaciones asociadas a cada código postal (puede haber varias)\n",
    "  + Si de esos tres primeros caracteres hay tres números (NNN) o dos números y una letra que no sea x (p.e. NNa), quiere decir que el fichero asociado contiene los códigos postales de poblaciones grandes, con más de un código postal. En este caso, la información aparece desglosada por todas las calles que tienen cada uno de los códigos postales, con lo que cada código postal aparece multitud de veces. Descartando la información de las calles, recopila todos los códigos postales distintos que haya en esos ficheros y asócialos a la ciudad y provincia corresondientes"
   ]
  },
  {
   "cell_type": "code",
   "execution_count": null,
   "metadata": {},
   "outputs": [],
   "source": []
  },
  {
   "cell_type": "markdown",
   "metadata": {},
   "source": [
    "**12. Acabas de comenzar a trabajar en el INE, y tu primera labor es recopilar la información que te proporcionan distintas autoridades locales para presentársela a tu jefe. La Agrupación de Municipios de España te ha proporcionado una lista de códigos postales y las poblaciones a las que pertenecen, aunque no te aseguran que esté actualizada y pueden faltar códigos postales. La Policía Nacional te ha proporcionado una lista de la cantidad de robos que se han producido en distintas poblaciones, asociados también a códigos postales. Si no se han producido robos, el código postal no aparece. La Guardia Civil te ha proporcionado una lista con la cantidad de incautaciones de drogas junto con el nombre de la población en el que se han producido. La Federación de Policías Municipales de España te ha enviado una lista con el número de infracciones que se han sancionado agrupadas también por poblaciones, y la Coordinadora de Cuerpos de Bomberos Nacional ha proporcionado el número de incendios sofocados, agrupados por código postal. Sabiendo que no todas las poblaciones y códigos postales tienen por qué aparecer en cada uno de los ficheros, escribe un programa que lea toda esta información, la agrupe de la manera más conveniente y la presente de manera ordenada.**  \n",
    "Antes de comenzar a resolver el ejercicio, puedes hacerte pequeños programas que te generen la información que necesitas para probar el ejercicio."
   ]
  },
  {
   "cell_type": "code",
   "execution_count": null,
   "metadata": {},
   "outputs": [],
   "source": []
  },
  {
   "cell_type": "markdown",
   "metadata": {},
   "source": [
    "**13. Nuestra ciudad cuenta con un sistema de semáforos equipados con radares que, cuando un coche se los salta en rojo, anotan la matrícula del coche, la fecha, la hora y el identificador del semáforo en el que se produjo la infracción. Escribe un programa que lea un fichero con esa información y la introduzca en un diccionario. Después debe leer una matrícula y devolver una lista de las infracciones cometidas por ese vehículo, ordenada por fecha y hora. A continuación, debe leer un identificador de semáforo y devolver todas las infracciones que ha registrado ordenadas por matrícula**  \n",
    "Al igual que en el ejercicio anterior, puedes escribir pequeños programas que te ayuden a generar los ficheros con la información que necesitas"
   ]
  },
  {
   "cell_type": "code",
   "execution_count": null,
   "metadata": {},
   "outputs": [],
   "source": []
  }
 ],
 "metadata": {
  "kernelspec": {
   "display_name": "Python 3",
   "language": "python",
   "name": "python3"
  },
  "language_info": {
   "codemirror_mode": {
    "name": "ipython",
    "version": 3
   },
   "file_extension": ".py",
   "mimetype": "text/x-python",
   "name": "python",
   "nbconvert_exporter": "python",
   "pygments_lexer": "ipython3",
   "version": "3.8.3"
  }
 },
 "nbformat": 4,
 "nbformat_minor": 4
}
